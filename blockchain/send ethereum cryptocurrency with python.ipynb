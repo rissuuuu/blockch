{
 "cells": [
  {
   "cell_type": "code",
   "execution_count": 1,
   "id": "matched-cassette",
   "metadata": {},
   "outputs": [],
   "source": [
    "import json\n",
    "from web3 import Web3"
   ]
  },
  {
   "cell_type": "code",
   "execution_count": 2,
   "id": "military-plaza",
   "metadata": {},
   "outputs": [],
   "source": [
    "url=\"https://ropsten.infura.io/v3/797f0db7164f4709ab71797981eb76e5\""
   ]
  },
  {
   "cell_type": "code",
   "execution_count": 3,
   "id": "innovative-blair",
   "metadata": {},
   "outputs": [],
   "source": [
    "web3=Web3(Web3.HTTPProvider(url))"
   ]
  },
  {
   "cell_type": "code",
   "execution_count": 4,
   "id": "united-interference",
   "metadata": {},
   "outputs": [
    {
     "data": {
      "text/plain": [
       "<web3.main.Web3 at 0x7f84db1e9340>"
      ]
     },
     "execution_count": 4,
     "metadata": {},
     "output_type": "execute_result"
    }
   ],
   "source": [
    "web3"
   ]
  },
  {
   "cell_type": "code",
   "execution_count": 5,
   "id": "every-subscriber",
   "metadata": {},
   "outputs": [
    {
     "data": {
      "text/plain": [
       "True"
      ]
     },
     "execution_count": 5,
     "metadata": {},
     "output_type": "execute_result"
    }
   ],
   "source": [
    "web3.isConnected()"
   ]
  },
  {
   "cell_type": "code",
   "execution_count": 7,
   "id": "integrated-mandate",
   "metadata": {},
   "outputs": [
    {
     "data": {
      "text/plain": [
       "9853297"
      ]
     },
     "execution_count": 7,
     "metadata": {},
     "output_type": "execute_result"
    }
   ],
   "source": [
    "web3.eth.block_number"
   ]
  },
  {
   "cell_type": "code",
   "execution_count": 8,
   "id": "recreational-discretion",
   "metadata": {},
   "outputs": [
    {
     "data": {
      "text/plain": [
       "AttributeDict({'difficulty': 155302067,\n",
       " 'extraData': HexBytes('0xd683010a01846765746886676f312e3136856c696e7578'),\n",
       " 'gasLimit': 8000000,\n",
       " 'gasUsed': 265336,\n",
       " 'hash': HexBytes('0xac5bf19f3509f27164f4f7d5558a855756ffaf536361218ae1be5e7b14f97633'),\n",
       " 'logsBloom': HexBytes('0x00000000000000000000000080000000000000024000010000000800200000000000000000000c00000000000000000000000000000000000000000000200000c40000000000000000000008000000000000000001400000001000000000000000000004020000000000800000010800002000000000041000020010000100000000000204000000000000000000080000000000004000080400000000000000020000000000004000040000000000400000000000200000000000008200000200020052000000000000000000000010040000000000001000000002000020000010000040000000000000000000000000002000008000000000000000000000'),\n",
       " 'miner': '0xA6cC9e28Bf3F08467aa2d0761Ff84b74a7aBB12B',\n",
       " 'mixHash': HexBytes('0xc0253b37adea9e8427090a3a5ed6e071ddf77f9a8116574459f6ad37078baa59'),\n",
       " 'nonce': HexBytes('0x16f6c57f69b2409e'),\n",
       " 'number': 9853300,\n",
       " 'parentHash': HexBytes('0xb1a9fe6b3a8282c4ca97848fe14ec2c951d5d92cc20d34a6648b826ded4fd684'),\n",
       " 'receiptsRoot': HexBytes('0xff238a330014fed6b41fae9211b3f2945ca278ea5befb657fef1ff01abdda2f5'),\n",
       " 'sha3Uncles': HexBytes('0x1dcc4de8dec75d7aab85b567b6ccd41ad312451b948a7413f0a142fd40d49347'),\n",
       " 'size': 1494,\n",
       " 'stateRoot': HexBytes('0x436cc39915ce54ac2eb3f7b35ea729f3116ad46047c60dd4f2f8cbd7a69e7f48'),\n",
       " 'timestamp': 1615970974,\n",
       " 'totalDifficulty': 32977727494252310,\n",
       " 'transactions': [HexBytes('0x8da8671c11fe9ce21c01d5221a69901bd6e4169fe6895e45b4c66e04c1b8acaa'),\n",
       "  HexBytes('0x32a3d86faf3010a2badd3ea5b900ccf42279d1df8f2d94ff9c02aeac722fc59b'),\n",
       "  HexBytes('0xb16ee7e1e9a0da8ed7ebb37054af8ea5264e1b199cb4d1db739e08c67139c7dd'),\n",
       "  HexBytes('0x05f3120f6142fb3929dd7e67170b792c66387c1658c19bb7381aad3e2179bf4b')],\n",
       " 'transactionsRoot': HexBytes('0x1ce340bf1561c75ecc3b6325126fe882b1287e12818afc0bf7e0d26b73bb01e9'),\n",
       " 'uncles': []})"
      ]
     },
     "execution_count": 8,
     "metadata": {},
     "output_type": "execute_result"
    }
   ],
   "source": [
    "web3.eth.get_block('latest')"
   ]
  },
  {
   "cell_type": "code",
   "execution_count": 9,
   "id": "technological-korea",
   "metadata": {},
   "outputs": [],
   "source": [
    "from hexbytes import HexBytes"
   ]
  },
  {
   "cell_type": "code",
   "execution_count": 17,
   "id": "hundred-approval",
   "metadata": {},
   "outputs": [],
   "source": [
    "hb=HexBytes(0x53b983fe73e16f6ed8178f6c0e0b91f23dc9dad4cb30d0831f178291ffeb8750)"
   ]
  },
  {
   "cell_type": "code",
   "execution_count": 18,
   "id": "proof-patch",
   "metadata": {},
   "outputs": [
    {
     "data": {
      "text/plain": [
       "'0x53b983fe73e16f6ed8178f6c0e0b91f23dc9dad4cb30d0831f178291ffeb8750'"
      ]
     },
     "execution_count": 18,
     "metadata": {},
     "output_type": "execute_result"
    }
   ],
   "source": [
    "hb.hex()"
   ]
  },
  {
   "cell_type": "code",
   "execution_count": 26,
   "id": "exclusive-contract",
   "metadata": {},
   "outputs": [
    {
     "data": {
      "text/plain": [
       "AttributeDict({'difficulty': 997888,\n",
       " 'extraData': HexBytes('0xd883010503846765746887676f312e372e318664617277696e'),\n",
       " 'gasLimit': 16760833,\n",
       " 'gasUsed': 0,\n",
       " 'hash': HexBytes('0x41800b5c3f1717687d85fc9018faac0a6e90b39deaa0b99e7fe4fe796ddeb26a'),\n",
       " 'logsBloom': HexBytes('0x00000000000000000000000000000000000000000000000000000000000000000000000000000000000000000000000000000000000000000000000000000000000000000000000000000000000000000000000000000000000000000000000000000000000000000000000000000000000000000000000000000000000000000000000000000000000000000000000000000000000000000000000000000000000000000000000000000000000000000000000000000000000000000000000000000000000000000000000000000000000000000000000000000000000000000000000000000000000000000000000000000000000000000000000000000000'),\n",
       " 'miner': '0xD1aEb42885A43b72B518182Ef893125814811048',\n",
       " 'mixHash': HexBytes('0x0f98b15f1a4901a7e9204f3c500a7bd527b3fb2c3340e12176a44b83e414a69e'),\n",
       " 'nonce': HexBytes('0x0ece08ea8c49dfd9'),\n",
       " 'number': 1,\n",
       " 'parentHash': HexBytes('0x41941023680923e0fe4d74a34bdac8141f2540e3ae90623718e47d66d1ca4a2d'),\n",
       " 'receiptsRoot': HexBytes('0x56e81f171bcc55a6ff8345e692c0f86e5b48e01b996cadc001622fb5e363b421'),\n",
       " 'sha3Uncles': HexBytes('0x1dcc4de8dec75d7aab85b567b6ccd41ad312451b948a7413f0a142fd40d49347'),\n",
       " 'size': 536,\n",
       " 'stateRoot': HexBytes('0xc7b01007a10da045eacb90385887dd0c38fcb5db7393006bdde24b93873c334b'),\n",
       " 'timestamp': 1479642530,\n",
       " 'totalDifficulty': 2046464,\n",
       " 'transactions': [],\n",
       " 'transactionsRoot': HexBytes('0x56e81f171bcc55a6ff8345e692c0f86e5b48e01b996cadc001622fb5e363b421'),\n",
       " 'uncles': []})"
      ]
     },
     "execution_count": 26,
     "metadata": {},
     "output_type": "execute_result"
    }
   ],
   "source": [
    "web3.eth.get_block(1)"
   ]
  },
  {
   "cell_type": "code",
   "execution_count": null,
   "id": "compliant-republican",
   "metadata": {},
   "outputs": [],
   "source": []
  },
  {
   "cell_type": "code",
   "execution_count": null,
   "id": "approximate-handbook",
   "metadata": {},
   "outputs": [],
   "source": []
  },
  {
   "cell_type": "code",
   "execution_count": null,
   "id": "surrounded-translation",
   "metadata": {},
   "outputs": [],
   "source": []
  },
  {
   "cell_type": "code",
   "execution_count": null,
   "id": "accepting-scoop",
   "metadata": {},
   "outputs": [],
   "source": []
  },
  {
   "cell_type": "code",
   "execution_count": null,
   "id": "solid-trick",
   "metadata": {},
   "outputs": [],
   "source": []
  },
  {
   "cell_type": "code",
   "execution_count": null,
   "id": "internal-animal",
   "metadata": {},
   "outputs": [],
   "source": []
  },
  {
   "cell_type": "code",
   "execution_count": null,
   "id": "manufactured-annex",
   "metadata": {},
   "outputs": [],
   "source": []
  },
  {
   "cell_type": "code",
   "execution_count": null,
   "id": "animal-deficit",
   "metadata": {},
   "outputs": [],
   "source": []
  },
  {
   "cell_type": "code",
   "execution_count": null,
   "id": "pacific-measurement",
   "metadata": {},
   "outputs": [],
   "source": []
  },
  {
   "cell_type": "code",
   "execution_count": null,
   "id": "reported-member",
   "metadata": {},
   "outputs": [],
   "source": []
  },
  {
   "cell_type": "code",
   "execution_count": null,
   "id": "driven-editing",
   "metadata": {},
   "outputs": [],
   "source": []
  },
  {
   "cell_type": "code",
   "execution_count": null,
   "id": "worthy-whole",
   "metadata": {},
   "outputs": [],
   "source": []
  },
  {
   "cell_type": "code",
   "execution_count": null,
   "id": "external-bicycle",
   "metadata": {},
   "outputs": [],
   "source": []
  },
  {
   "cell_type": "code",
   "execution_count": null,
   "id": "color-symphony",
   "metadata": {},
   "outputs": [],
   "source": []
  },
  {
   "cell_type": "code",
   "execution_count": null,
   "id": "subjective-commissioner",
   "metadata": {},
   "outputs": [],
   "source": []
  },
  {
   "cell_type": "code",
   "execution_count": 27,
   "id": "particular-athens",
   "metadata": {},
   "outputs": [],
   "source": [
    "abi=json.loads('[{\"constant\": false,\"inputs\": [{\"name\": \"_candidateId\",\"type\": \"uint256\"}],\"name\": \"vote\",\"outputs\": [],\"payable\": false,\"stateMutability\": \"nonpayable\",\"type\": \"function\"},{\"inputs\": [],\"payable\": false,\"stateMutability\": \"nonpayable\",\"type\": \"constructor\"},{\"anonymous\": false,\"inputs\": [{\"indexed\": true,\"name\": \"_candidateId\",\"type\": \"uint256\"}],\"name\": \"votedEvent\",\"type\": \"event\"},{\"constant\": true,\"inputs\": [{\"name\": \"\",\"type\": \"uint256\"}],\"name\": \"candidates\",\"outputs\": [{\"name\": \"id\",\"type\": \"uint256\"},{\"name\": \"name\",\"type\": \"string\"},{\"name\": \"voteCount\",\"type\": \"uint256\"}],\"payable\": false,\"stateMutability\": \"view\",\"type\": \"function\"},{\"constant\": true,\"inputs\": [],\"name\": \"candidatesCount\",\"outputs\": [{\"name\": \"\",\"type\": \"uint256\"}],\"payable\": false,\"stateMutability\": \"view\",\"type\": \"function\"},{\"constant\": true,\"inputs\": [{\"name\": \"\",\"type\": \"address\"}],\"name\": \"voters\",\"outputs\": [{\"name\": \"\",\"type\": \"bool\"}],\"payable\": false,\"stateMutability\": \"view\",\"type\": \"function\"}]')\n",
    "#Json array that describes what smart contract looks like\n",
    "\n",
    "\n",
    "address=\"0x4Fb7FF337321155c34B0F87841F72832EC3dD98a\"\n",
    "# address of deployed smart contract in blockchain"
   ]
  },
  {
   "cell_type": "code",
   "execution_count": 30,
   "id": "explicit-scheduling",
   "metadata": {},
   "outputs": [
    {
     "data": {
      "text/plain": [
       "[{'constant': False,\n",
       "  'inputs': [{'name': '_candidateId', 'type': 'uint256'}],\n",
       "  'name': 'vote',\n",
       "  'outputs': [],\n",
       "  'payable': False,\n",
       "  'stateMutability': 'nonpayable',\n",
       "  'type': 'function'},\n",
       " {'inputs': [],\n",
       "  'payable': False,\n",
       "  'stateMutability': 'nonpayable',\n",
       "  'type': 'constructor'},\n",
       " {'anonymous': False,\n",
       "  'inputs': [{'indexed': True, 'name': '_candidateId', 'type': 'uint256'}],\n",
       "  'name': 'votedEvent',\n",
       "  'type': 'event'},\n",
       " {'constant': True,\n",
       "  'inputs': [{'name': '', 'type': 'uint256'}],\n",
       "  'name': 'candidates',\n",
       "  'outputs': [{'name': 'id', 'type': 'uint256'},\n",
       "   {'name': 'name', 'type': 'string'},\n",
       "   {'name': 'voteCount', 'type': 'uint256'}],\n",
       "  'payable': False,\n",
       "  'stateMutability': 'view',\n",
       "  'type': 'function'},\n",
       " {'constant': True,\n",
       "  'inputs': [],\n",
       "  'name': 'candidatesCount',\n",
       "  'outputs': [{'name': '', 'type': 'uint256'}],\n",
       "  'payable': False,\n",
       "  'stateMutability': 'view',\n",
       "  'type': 'function'},\n",
       " {'constant': True,\n",
       "  'inputs': [{'name': '', 'type': 'address'}],\n",
       "  'name': 'voters',\n",
       "  'outputs': [{'name': '', 'type': 'bool'}],\n",
       "  'payable': False,\n",
       "  'stateMutability': 'view',\n",
       "  'type': 'function'}]"
      ]
     },
     "execution_count": 30,
     "metadata": {},
     "output_type": "execute_result"
    }
   ],
   "source": [
    "abi"
   ]
  },
  {
   "cell_type": "code",
   "execution_count": 28,
   "id": "enhanced-morrison",
   "metadata": {},
   "outputs": [],
   "source": [
    "contract=web3.eth.contract(address=address,abi=abi)"
   ]
  },
  {
   "cell_type": "code",
   "execution_count": 33,
   "id": "ceramic-minneapolis",
   "metadata": {},
   "outputs": [
    {
     "data": {
      "text/plain": [
       "2"
      ]
     },
     "execution_count": 33,
     "metadata": {},
     "output_type": "execute_result"
    }
   ],
   "source": [
    "total_supply=contract.functions.candidatesCount().call()\n",
    "total_supply"
   ]
  },
  {
   "cell_type": "code",
   "execution_count": 34,
   "id": "considered-istanbul",
   "metadata": {},
   "outputs": [
    {
     "data": {
      "text/plain": [
       "Decimal('2E-18')"
      ]
     },
     "execution_count": 34,
     "metadata": {},
     "output_type": "execute_result"
    }
   ],
   "source": [
    "web3.fromWei(total_supply,'ether')"
   ]
  },
  {
   "cell_type": "code",
   "execution_count": null,
   "id": "digital-germany",
   "metadata": {},
   "outputs": [],
   "source": []
  },
  {
   "cell_type": "code",
   "execution_count": null,
   "id": "antique-particle",
   "metadata": {},
   "outputs": [],
   "source": []
  },
  {
   "cell_type": "code",
   "execution_count": null,
   "id": "filled-contractor",
   "metadata": {},
   "outputs": [],
   "source": []
  },
  {
   "cell_type": "code",
   "execution_count": null,
   "id": "ranking-repair",
   "metadata": {},
   "outputs": [],
   "source": []
  },
  {
   "cell_type": "code",
   "execution_count": null,
   "id": "different-feedback",
   "metadata": {},
   "outputs": [],
   "source": []
  },
  {
   "cell_type": "code",
   "execution_count": null,
   "id": "political-morris",
   "metadata": {},
   "outputs": [],
   "source": []
  },
  {
   "cell_type": "code",
   "execution_count": null,
   "id": "frozen-capability",
   "metadata": {},
   "outputs": [],
   "source": []
  },
  {
   "cell_type": "code",
   "execution_count": null,
   "id": "spiritual-trailer",
   "metadata": {},
   "outputs": [],
   "source": []
  },
  {
   "cell_type": "code",
   "execution_count": null,
   "id": "encouraging-matthew",
   "metadata": {},
   "outputs": [],
   "source": []
  },
  {
   "cell_type": "code",
   "execution_count": null,
   "id": "moderate-geography",
   "metadata": {},
   "outputs": [],
   "source": []
  },
  {
   "cell_type": "code",
   "execution_count": null,
   "id": "negative-compound",
   "metadata": {},
   "outputs": [],
   "source": []
  },
  {
   "cell_type": "code",
   "execution_count": null,
   "id": "unknown-processing",
   "metadata": {},
   "outputs": [],
   "source": []
  },
  {
   "cell_type": "code",
   "execution_count": null,
   "id": "spanish-carpet",
   "metadata": {},
   "outputs": [],
   "source": []
  },
  {
   "cell_type": "code",
   "execution_count": null,
   "id": "nearby-hazard",
   "metadata": {},
   "outputs": [],
   "source": []
  },
  {
   "cell_type": "code",
   "execution_count": null,
   "id": "dimensional-budapest",
   "metadata": {},
   "outputs": [],
   "source": []
  },
  {
   "cell_type": "code",
   "execution_count": null,
   "id": "swedish-sarah",
   "metadata": {},
   "outputs": [],
   "source": []
  },
  {
   "cell_type": "code",
   "execution_count": null,
   "id": "cathedral-score",
   "metadata": {},
   "outputs": [],
   "source": []
  },
  {
   "cell_type": "code",
   "execution_count": null,
   "id": "numerous-words",
   "metadata": {},
   "outputs": [],
   "source": []
  },
  {
   "cell_type": "code",
   "execution_count": null,
   "id": "metropolitan-israeli",
   "metadata": {},
   "outputs": [],
   "source": []
  },
  {
   "cell_type": "code",
   "execution_count": null,
   "id": "democratic-springer",
   "metadata": {},
   "outputs": [],
   "source": []
  },
  {
   "cell_type": "code",
   "execution_count": null,
   "id": "imperial-influence",
   "metadata": {},
   "outputs": [],
   "source": []
  },
  {
   "cell_type": "code",
   "execution_count": null,
   "id": "lucky-tender",
   "metadata": {},
   "outputs": [],
   "source": []
  },
  {
   "cell_type": "code",
   "execution_count": null,
   "id": "variable-navigator",
   "metadata": {},
   "outputs": [],
   "source": []
  },
  {
   "cell_type": "code",
   "execution_count": null,
   "id": "opening-dairy",
   "metadata": {},
   "outputs": [],
   "source": []
  },
  {
   "cell_type": "code",
   "execution_count": null,
   "id": "pursuant-aberdeen",
   "metadata": {},
   "outputs": [],
   "source": []
  },
  {
   "cell_type": "code",
   "execution_count": null,
   "id": "solar-encounter",
   "metadata": {},
   "outputs": [],
   "source": []
  },
  {
   "cell_type": "code",
   "execution_count": null,
   "id": "color-patient",
   "metadata": {},
   "outputs": [],
   "source": []
  },
  {
   "cell_type": "code",
   "execution_count": null,
   "id": "anonymous-honor",
   "metadata": {},
   "outputs": [],
   "source": []
  },
  {
   "cell_type": "code",
   "execution_count": null,
   "id": "fancy-there",
   "metadata": {},
   "outputs": [],
   "source": []
  },
  {
   "cell_type": "code",
   "execution_count": null,
   "id": "separate-contamination",
   "metadata": {},
   "outputs": [],
   "source": []
  },
  {
   "cell_type": "code",
   "execution_count": null,
   "id": "worth-nickname",
   "metadata": {},
   "outputs": [],
   "source": []
  },
  {
   "cell_type": "code",
   "execution_count": null,
   "id": "acquired-tuition",
   "metadata": {},
   "outputs": [],
   "source": []
  },
  {
   "cell_type": "code",
   "execution_count": null,
   "id": "needed-scheduling",
   "metadata": {},
   "outputs": [],
   "source": []
  },
  {
   "cell_type": "code",
   "execution_count": null,
   "id": "split-breathing",
   "metadata": {},
   "outputs": [],
   "source": []
  },
  {
   "cell_type": "code",
   "execution_count": null,
   "id": "danish-comment",
   "metadata": {},
   "outputs": [],
   "source": []
  },
  {
   "cell_type": "code",
   "execution_count": null,
   "id": "sapphire-courtesy",
   "metadata": {},
   "outputs": [],
   "source": []
  },
  {
   "cell_type": "code",
   "execution_count": null,
   "id": "vocational-prospect",
   "metadata": {},
   "outputs": [],
   "source": []
  },
  {
   "cell_type": "code",
   "execution_count": null,
   "id": "expressed-withdrawal",
   "metadata": {},
   "outputs": [],
   "source": []
  },
  {
   "cell_type": "code",
   "execution_count": null,
   "id": "above-honduras",
   "metadata": {},
   "outputs": [],
   "source": []
  },
  {
   "cell_type": "code",
   "execution_count": null,
   "id": "steady-gothic",
   "metadata": {},
   "outputs": [],
   "source": []
  },
  {
   "cell_type": "code",
   "execution_count": null,
   "id": "adult-spotlight",
   "metadata": {},
   "outputs": [],
   "source": []
  },
  {
   "cell_type": "code",
   "execution_count": null,
   "id": "distant-carry",
   "metadata": {},
   "outputs": [],
   "source": []
  },
  {
   "cell_type": "code",
   "execution_count": null,
   "id": "adjustable-working",
   "metadata": {},
   "outputs": [],
   "source": []
  },
  {
   "cell_type": "code",
   "execution_count": null,
   "id": "changing-samuel",
   "metadata": {},
   "outputs": [],
   "source": []
  },
  {
   "cell_type": "code",
   "execution_count": null,
   "id": "infrared-professor",
   "metadata": {},
   "outputs": [],
   "source": []
  },
  {
   "cell_type": "code",
   "execution_count": null,
   "id": "separate-manor",
   "metadata": {},
   "outputs": [],
   "source": []
  },
  {
   "cell_type": "code",
   "execution_count": null,
   "id": "overhead-rugby",
   "metadata": {},
   "outputs": [],
   "source": []
  },
  {
   "cell_type": "code",
   "execution_count": null,
   "id": "arabic-sculpture",
   "metadata": {},
   "outputs": [],
   "source": []
  },
  {
   "cell_type": "code",
   "execution_count": null,
   "id": "presidential-abuse",
   "metadata": {},
   "outputs": [],
   "source": []
  },
  {
   "cell_type": "code",
   "execution_count": null,
   "id": "apart-laundry",
   "metadata": {},
   "outputs": [],
   "source": []
  },
  {
   "cell_type": "code",
   "execution_count": null,
   "id": "killing-extent",
   "metadata": {},
   "outputs": [],
   "source": []
  },
  {
   "cell_type": "code",
   "execution_count": null,
   "id": "complex-marina",
   "metadata": {},
   "outputs": [],
   "source": []
  },
  {
   "cell_type": "code",
   "execution_count": null,
   "id": "russian-insurance",
   "metadata": {},
   "outputs": [],
   "source": []
  },
  {
   "cell_type": "code",
   "execution_count": null,
   "id": "forward-algorithm",
   "metadata": {},
   "outputs": [],
   "source": []
  },
  {
   "cell_type": "code",
   "execution_count": null,
   "id": "human-benefit",
   "metadata": {},
   "outputs": [],
   "source": []
  }
 ],
 "metadata": {
  "kernelspec": {
   "display_name": "Python 3",
   "language": "python",
   "name": "python3"
  },
  "language_info": {
   "codemirror_mode": {
    "name": "ipython",
    "version": 3
   },
   "file_extension": ".py",
   "mimetype": "text/x-python",
   "name": "python",
   "nbconvert_exporter": "python",
   "pygments_lexer": "ipython3",
   "version": "3.8.5"
  }
 },
 "nbformat": 4,
 "nbformat_minor": 5
}
