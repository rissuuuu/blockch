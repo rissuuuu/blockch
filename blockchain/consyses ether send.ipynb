{
 "cells": [
  {
   "cell_type": "code",
   "execution_count": null,
   "id": "great-element",
   "metadata": {},
   "outputs": [],
   "source": [
    "\n"
   ]
  },
  {
   "cell_type": "code",
   "execution_count": 2,
   "id": "great-gibraltar",
   "metadata": {},
   "outputs": [],
   "source": [
    "url=\"https://rinkeby.infura.io/v3/797f0db7164f4709ab71797981eb76e5\""
   ]
  }
 ],
 "metadata": {
  "kernelspec": {
   "display_name": "Python 3",
   "language": "python",
   "name": "python3"
  },
  "language_info": {
   "codemirror_mode": {
    "name": "ipython",
    "version": 3
   },
   "file_extension": ".py",
   "mimetype": "text/x-python",
   "name": "python",
   "nbconvert_exporter": "python",
   "pygments_lexer": "ipython3",
   "version": "3.8.5"
  }
 },
 "nbformat": 4,
 "nbformat_minor": 5
}
