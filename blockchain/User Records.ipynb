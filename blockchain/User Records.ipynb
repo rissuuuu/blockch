{
 "cells": [
  {
   "cell_type": "code",
   "execution_count": 2,
   "id": "defensive-genealogy",
   "metadata": {},
   "outputs": [],
   "source": [
    "from web3 import Web3\n",
    "from solcx import compile_source"
   ]
  },
  {
   "cell_type": "code",
   "execution_count": 3,
   "id": "floral-winter",
   "metadata": {},
   "outputs": [],
   "source": [
    "def compile_source_file(file_path):\n",
    "    with open(file_path, 'r') as f:\n",
    "        source= f.read()\n",
    "    return compile_source(source)"
   ]
  },
  {
   "cell_type": "code",
   "execution_count": 5,
   "id": "known-patent",
   "metadata": {},
   "outputs": [],
   "source": [
    "contract='userrecord.sol'\n",
    "compiled_sol=compile_source_file(contract)"
   ]
  },
  {
   "cell_type": "code",
   "execution_count": 7,
   "id": "british-little",
   "metadata": {},
   "outputs": [],
   "source": [
    "contract_id,contract_abi=compiled_sol.popitem()"
   ]
  },
  {
   "cell_type": "code",
   "execution_count": null,
   "id": "animated-plant",
   "metadata": {},
   "outputs": [],
   "source": []
  },
  {
   "cell_type": "code",
   "execution_count": null,
   "id": "embedded-devices",
   "metadata": {},
   "outputs": [],
   "source": []
  },
  {
   "cell_type": "code",
   "execution_count": null,
   "id": "departmental-morrison",
   "metadata": {},
   "outputs": [],
   "source": []
  },
  {
   "cell_type": "code",
   "execution_count": null,
   "id": "dominican-sensitivity",
   "metadata": {},
   "outputs": [],
   "source": []
  }
 ],
 "metadata": {
  "kernelspec": {
   "display_name": "Python 3",
   "language": "python",
   "name": "python3"
  },
  "language_info": {
   "codemirror_mode": {
    "name": "ipython",
    "version": 3
   },
   "file_extension": ".py",
   "mimetype": "text/x-python",
   "name": "python",
   "nbconvert_exporter": "python",
   "pygments_lexer": "ipython3",
   "version": "3.8.5"
  }
 },
 "nbformat": 4,
 "nbformat_minor": 5
}
