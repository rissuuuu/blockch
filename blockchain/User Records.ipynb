{
 "cells": [
  {
   "cell_type": "code",
   "execution_count": 59,
   "id": "lucky-sessions",
   "metadata": {},
   "outputs": [],
   "source": [
    "from web3 import Web3\n",
    "from solcx import compile_source"
   ]
  },
  {
   "cell_type": "code",
   "execution_count": 60,
   "id": "sophisticated-contract",
   "metadata": {},
   "outputs": [],
   "source": [
    "def compile_source_file(file_path):\n",
    "    with open(file_path, 'r') as f:\n",
    "        source= f.read()\n",
    "    return compile_source(source)"
   ]
  },
  {
   "cell_type": "code",
   "execution_count": 61,
   "id": "assisted-tradition",
   "metadata": {},
   "outputs": [],
   "source": [
    "contract='userrecord.sol'\n",
    "compiled_sol=compile_source_file(contract)"
   ]
  },
  {
   "cell_type": "code",
   "execution_count": 62,
   "id": "downtown-dutch",
   "metadata": {},
   "outputs": [],
   "source": [
    "contract_id,contract_abi=compiled_sol.popitem()"
   ]
  },
  {
   "cell_type": "code",
   "execution_count": 63,
   "id": "automated-sampling",
   "metadata": {},
   "outputs": [],
   "source": [
    "ganache_url=\"HTTP://127.0.0.1:7545\"\n",
    "web3=Web3(Web3.HTTPProvider(ganache_url))"
   ]
  },
  {
   "cell_type": "code",
   "execution_count": 64,
   "id": "finished-duplicate",
   "metadata": {},
   "outputs": [
    {
     "data": {
      "text/plain": [
       "['0x4cbc87586da52F809D98F122331C06Ba16D6cC3A',\n",
       " '0xA4a4a85a3aA829384e2de7aD2B16B06EBA07A2bA',\n",
       " '0x58325180563bC75A12543FD380dE90048b89700c',\n",
       " '0xB1ec37fA914Fcf087BC1FB394F53292f337150Be',\n",
       " '0x2ad1fD7BD41DBA854523ecf0E3fbef6E7fC91af1',\n",
       " '0x7107246e4d83cF65F0Fbc56584b274B68745f40d',\n",
       " '0xb40518c06eF3dad45D3F35D3e839cF9b4A230f97',\n",
       " '0x464244D4cfDcE7aB54694dbBcd6C3E1ddCAb8c0a',\n",
       " '0x9108B087b51E0fE9Fa9D37eb794386A98050Bf48',\n",
       " '0x426658F34b041dA97E78ae4972Af6f472b1363e4']"
      ]
     },
     "execution_count": 64,
     "metadata": {},
     "output_type": "execute_result"
    }
   ],
   "source": [
    "web3.eth.accounts"
   ]
  },
  {
   "cell_type": "code",
   "execution_count": 65,
   "id": "necessary-malpractice",
   "metadata": {},
   "outputs": [],
   "source": [
    "web3.eth.default_account=web3.eth.accounts[0]"
   ]
  },
  {
   "cell_type": "code",
   "execution_count": 66,
   "id": "spanish-spelling",
   "metadata": {},
   "outputs": [],
   "source": [
    "byte_code=\"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\"\n",
    "abi=contract_abi['abi']"
   ]
  },
  {
   "cell_type": "code",
   "execution_count": 67,
   "id": "swedish-boutique",
   "metadata": {},
   "outputs": [],
   "source": [
    "def deploy_contract(abi,bytecode):\n",
    "    contract=web3.eth.contract(abi=abi,bytecode=byte_code)\n",
    "    tx_hash=contract.constructor().transact()\n",
    "    tx_recepit=web3.eth.waitForTransactionReceipt(tx_hash)\n",
    "    return tx_recepit"
   ]
  },
  {
   "cell_type": "code",
   "execution_count": 68,
   "id": "corresponding-presentation",
   "metadata": {},
   "outputs": [],
   "source": [
    "receipt=deploy_contract(abi,byte_code)"
   ]
  },
  {
   "cell_type": "code",
   "execution_count": 69,
   "id": "viral-perry",
   "metadata": {},
   "outputs": [
    {
     "data": {
      "text/plain": [
       "AttributeDict({'transactionHash': HexBytes('0xfc90bb9230656d8674e4ccc8b026f0214d9e167c89a580e8aca73de67ff336b3'),\n",
       " 'transactionIndex': 0,\n",
       " 'blockHash': HexBytes('0x7fe4b4017caf2885363b5f3b856e768588186e450b2e862562d086508b2e49c1'),\n",
       " 'blockNumber': 19,\n",
       " 'from': '0x4cbc87586da52F809D98F122331C06Ba16D6cC3A',\n",
       " 'to': None,\n",
       " 'gasUsed': 435973,\n",
       " 'cumulativeGasUsed': 435973,\n",
       " 'contractAddress': '0x29d90b3A49ac6B8fE9333d6D6Af01522538bBf4d',\n",
       " 'logs': [],\n",
       " 'status': 1,\n",
       " 'logsBloom': HexBytes('0x00000000000000000000000000000000000000000000000000000000000000000000000000000000000000000000000000000000000000000000000000000000000000000000000000000000000000000000000000000000000000000000000000000000000000000000000000000000000000000000000000000000000000000000000000000000000000000000000000000000000000000000000000000000000000000000000000000000000000000000000000000000000000000000000000000000000000000000000000000000000000000000000000000000000000000000000000000000000000000000000000000000000000000000000000000000')})"
      ]
     },
     "execution_count": 69,
     "metadata": {},
     "output_type": "execute_result"
    }
   ],
   "source": [
    "receipt"
   ]
  },
  {
   "cell_type": "code",
   "execution_count": null,
   "id": "handled-evolution",
   "metadata": {},
   "outputs": [],
   "source": []
  },
  {
   "cell_type": "code",
   "execution_count": null,
   "id": "muslim-estate",
   "metadata": {},
   "outputs": [],
   "source": []
  },
  {
   "cell_type": "code",
   "execution_count": null,
   "id": "urban-server",
   "metadata": {},
   "outputs": [],
   "source": []
  },
  {
   "cell_type": "code",
   "execution_count": 72,
   "id": "adopted-commonwealth",
   "metadata": {},
   "outputs": [],
   "source": [
    "contract=web3.eth.contract(address=receipt['contractAddress'],\n",
    "#     address=tx_recepit.contractAddress,\n",
    "                          abi=abi)"
   ]
  },
  {
   "cell_type": "code",
   "execution_count": 73,
   "id": "published-municipality",
   "metadata": {},
   "outputs": [
    {
     "data": {
      "text/plain": [
       "['', 'male']"
      ]
     },
     "execution_count": 73,
     "metadata": {},
     "output_type": "execute_result"
    }
   ],
   "source": [
    "contract.functions.getUser().call()"
   ]
  },
  {
   "cell_type": "code",
   "execution_count": 74,
   "id": "middle-slope",
   "metadata": {},
   "outputs": [
    {
     "data": {
      "text/plain": [
       "HexBytes('0xff9ae00d4075ba905140b5ebf28b7fe697b973b2d2391e16b05f7b00abe8b542')"
      ]
     },
     "execution_count": 74,
     "metadata": {},
     "output_type": "execute_result"
    }
   ],
   "source": [
    "contract.functions.setUser(\"Jyotshna\",\"female\").transact()"
   ]
  },
  {
   "cell_type": "code",
   "execution_count": 75,
   "id": "understood-addition",
   "metadata": {},
   "outputs": [
    {
     "data": {
      "text/plain": [
       "['Jyotshna', 'female']"
      ]
     },
     "execution_count": 75,
     "metadata": {},
     "output_type": "execute_result"
    }
   ],
   "source": [
    "contract.functions.getUser().call()"
   ]
  },
  {
   "cell_type": "code",
   "execution_count": null,
   "id": "chinese-majority",
   "metadata": {},
   "outputs": [],
   "source": []
  },
  {
   "cell_type": "code",
   "execution_count": null,
   "id": "seventh-interaction",
   "metadata": {},
   "outputs": [],
   "source": []
  },
  {
   "cell_type": "code",
   "execution_count": null,
   "id": "young-balloon",
   "metadata": {},
   "outputs": [],
   "source": []
  },
  {
   "cell_type": "code",
   "execution_count": null,
   "id": "usual-traffic",
   "metadata": {},
   "outputs": [],
   "source": []
  },
  {
   "cell_type": "code",
   "execution_count": null,
   "id": "alpha-buffalo",
   "metadata": {},
   "outputs": [],
   "source": []
  },
  {
   "cell_type": "code",
   "execution_count": null,
   "id": "comic-border",
   "metadata": {},
   "outputs": [],
   "source": []
  },
  {
   "cell_type": "code",
   "execution_count": null,
   "id": "entertaining-exhibition",
   "metadata": {},
   "outputs": [],
   "source": []
  },
  {
   "cell_type": "code",
   "execution_count": null,
   "id": "conceptual-christian",
   "metadata": {},
   "outputs": [],
   "source": []
  },
  {
   "cell_type": "code",
   "execution_count": null,
   "id": "closed-square",
   "metadata": {},
   "outputs": [],
   "source": []
  },
  {
   "cell_type": "code",
   "execution_count": null,
   "id": "refined-excellence",
   "metadata": {},
   "outputs": [],
   "source": []
  },
  {
   "cell_type": "code",
   "execution_count": null,
   "id": "military-roommate",
   "metadata": {},
   "outputs": [],
   "source": []
  },
  {
   "cell_type": "code",
   "execution_count": null,
   "id": "collect-london",
   "metadata": {},
   "outputs": [],
   "source": []
  },
  {
   "cell_type": "code",
   "execution_count": null,
   "id": "trying-portsmouth",
   "metadata": {},
   "outputs": [],
   "source": []
  },
  {
   "cell_type": "code",
   "execution_count": null,
   "id": "welcome-modeling",
   "metadata": {},
   "outputs": [],
   "source": []
  }
 ],
 "metadata": {
  "kernelspec": {
   "display_name": "Python 3",
   "language": "python",
   "name": "python3"
  },
  "language_info": {
   "codemirror_mode": {
    "name": "ipython",
    "version": 3
   },
   "file_extension": ".py",
   "mimetype": "text/x-python",
   "name": "python",
   "nbconvert_exporter": "python",
   "pygments_lexer": "ipython3",
   "version": "3.8.5"
  }
 },
 "nbformat": 4,
 "nbformat_minor": 5
}
