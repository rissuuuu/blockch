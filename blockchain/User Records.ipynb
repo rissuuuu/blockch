{
 "cells": [
  {
   "cell_type": "code",
   "execution_count": 18,
   "id": "lucky-sessions",
   "metadata": {},
   "outputs": [],
   "source": [
    "from web3 import Web3\n",
    "from solcx import compile_source"
   ]
  },
  {
   "cell_type": "code",
   "execution_count": 19,
   "id": "sophisticated-contract",
   "metadata": {},
   "outputs": [],
   "source": [
    "def compile_source_file(file_path):\n",
    "    with open(file_path, 'r') as f:\n",
    "        source= f.read()\n",
    "    return compile_source(source)"
   ]
  },
  {
   "cell_type": "code",
   "execution_count": 42,
   "id": "assisted-tradition",
   "metadata": {},
   "outputs": [],
   "source": [
    "contract='userrecord.sol'\n",
    "compiled_sol=compile_source_file(contract)"
   ]
  },
  {
   "cell_type": "code",
   "execution_count": 43,
   "id": "downtown-dutch",
   "metadata": {},
   "outputs": [],
   "source": [
    "contract_id,contract_abi=compiled_sol.popitem()"
   ]
  },
  {
   "cell_type": "code",
   "execution_count": 44,
   "id": "automated-sampling",
   "metadata": {},
   "outputs": [],
   "source": [
    "ganache_url=\"HTTP://127.0.0.1:7545\"\n",
    "web3=Web3(Web3.HTTPProvider(ganache_url))"
   ]
  },
  {
   "cell_type": "code",
   "execution_count": 45,
   "id": "finished-duplicate",
   "metadata": {},
   "outputs": [
    {
     "data": {
      "text/plain": [
       "['0x4cbc87586da52F809D98F122331C06Ba16D6cC3A',\n",
       " '0xA4a4a85a3aA829384e2de7aD2B16B06EBA07A2bA',\n",
       " '0x58325180563bC75A12543FD380dE90048b89700c',\n",
       " '0xB1ec37fA914Fcf087BC1FB394F53292f337150Be',\n",
       " '0x2ad1fD7BD41DBA854523ecf0E3fbef6E7fC91af1',\n",
       " '0x7107246e4d83cF65F0Fbc56584b274B68745f40d',\n",
       " '0xb40518c06eF3dad45D3F35D3e839cF9b4A230f97',\n",
       " '0x464244D4cfDcE7aB54694dbBcd6C3E1ddCAb8c0a',\n",
       " '0x9108B087b51E0fE9Fa9D37eb794386A98050Bf48',\n",
       " '0x426658F34b041dA97E78ae4972Af6f472b1363e4']"
      ]
     },
     "execution_count": 45,
     "metadata": {},
     "output_type": "execute_result"
    }
   ],
   "source": [
    "web3.eth.accounts"
   ]
  },
  {
   "cell_type": "code",
   "execution_count": 61,
   "id": "necessary-malpractice",
   "metadata": {},
   "outputs": [],
   "source": [
    "web3.eth.default_account=web3.eth.accounts[1]"
   ]
  },
  {
   "cell_type": "code",
   "execution_count": 47,
   "id": "unlikely-lodge",
   "metadata": {},
   "outputs": [],
   "source": [
    "byte_code=contract_abi['bin']\n",
    "abi=contract_abi['abi']"
   ]
  },
  {
   "cell_type": "code",
   "execution_count": 48,
   "id": "hidden-keyboard",
   "metadata": {},
   "outputs": [],
   "source": [
    "def deploy_contract(abi,bytecode):\n",
    "    contract=web3.eth.contract(abi=abi,bytecode=byte_code)\n",
    "    tx_hash=contract.constructor().transact()\n",
    "    tx_recepit=web3.eth.waitForTransactionReceipt(tx_hash)\n",
    "    return tx_recepit"
   ]
  },
  {
   "cell_type": "code",
   "execution_count": 49,
   "id": "piano-coffee",
   "metadata": {},
   "outputs": [],
   "source": [
    "receipt=deploy_contract(abi,byte_code)"
   ]
  },
  {
   "cell_type": "code",
   "execution_count": 50,
   "id": "lightweight-infrared",
   "metadata": {},
   "outputs": [
    {
     "data": {
      "text/plain": [
       "AttributeDict({'transactionHash': HexBytes('0x201f489483bff301d71cef3e604d34b1ebe32aa77423a34b0edbbd6db2cce56b'),\n",
       " 'transactionIndex': 0,\n",
       " 'blockHash': HexBytes('0x08e2e07dfb8e240ce257b398931f2b583dee905faf70f23462ec1b435e75362e'),\n",
       " 'blockNumber': 27,\n",
       " 'from': '0x4cbc87586da52F809D98F122331C06Ba16D6cC3A',\n",
       " 'to': None,\n",
       " 'gasUsed': 611924,\n",
       " 'cumulativeGasUsed': 611924,\n",
       " 'contractAddress': '0x168252cb6B60034a753bCd7B9202135050513080',\n",
       " 'logs': [],\n",
       " 'status': 1,\n",
       " 'logsBloom': HexBytes('0x00000000000000000000000000000000000000000000000000000000000000000000000000000000000000000000000000000000000000000000000000000000000000000000000000000000000000000000000000000000000000000000000000000000000000000000000000000000000000000000000000000000000000000000000000000000000000000000000000000000000000000000000000000000000000000000000000000000000000000000000000000000000000000000000000000000000000000000000000000000000000000000000000000000000000000000000000000000000000000000000000000000000000000000000000000000')})"
      ]
     },
     "execution_count": 50,
     "metadata": {},
     "output_type": "execute_result"
    }
   ],
   "source": [
    "receipt"
   ]
  },
  {
   "cell_type": "code",
   "execution_count": 51,
   "id": "damaged-albania",
   "metadata": {},
   "outputs": [],
   "source": [
    "contract=web3.eth.contract(address=receipt['contractAddress'],\n",
    "#     address=tx_recepit.contractAddress,\n",
    "                          abi=abi)"
   ]
  },
  {
   "cell_type": "code",
   "execution_count": 52,
   "id": "improved-record",
   "metadata": {},
   "outputs": [
    {
     "data": {
      "text/plain": [
       "['', 'male']"
      ]
     },
     "execution_count": 52,
     "metadata": {},
     "output_type": "execute_result"
    }
   ],
   "source": [
    "contract.functions.getUser().call()"
   ]
  },
  {
   "cell_type": "code",
   "execution_count": 53,
   "id": "qualified-encounter",
   "metadata": {},
   "outputs": [
    {
     "data": {
      "text/plain": [
       "HexBytes('0x76e5f788effdda76c85db2a4d52c939715ad9cbf39c93964969eaa9485f3a005')"
      ]
     },
     "execution_count": 53,
     "metadata": {},
     "output_type": "execute_result"
    }
   ],
   "source": [
    "contract.functions.setUser(\"Rishav\",\"male\").transact()"
   ]
  },
  {
   "cell_type": "code",
   "execution_count": 59,
   "id": "abstract-lover",
   "metadata": {},
   "outputs": [
    {
     "data": {
      "text/plain": [
       "['Risu', 'male']"
      ]
     },
     "execution_count": 59,
     "metadata": {},
     "output_type": "execute_result"
    }
   ],
   "source": [
    "contract.functions.getUser().call()"
   ]
  },
  {
   "cell_type": "code",
   "execution_count": 55,
   "id": "incredible-democracy",
   "metadata": {},
   "outputs": [
    {
     "data": {
      "text/plain": [
       "dict_keys(['abi', 'asm', 'bin', 'bin-runtime', 'devdoc', 'generated-sources', 'generated-sources-runtime', 'hashes', 'metadata', 'opcodes', 'srcmap', 'srcmap-runtime', 'storage-layout', 'userdoc', 'ast'])"
      ]
     },
     "execution_count": 55,
     "metadata": {},
     "output_type": "execute_result"
    }
   ],
   "source": [
    "contract_abi.keys()"
   ]
  },
  {
   "cell_type": "code",
   "execution_count": 64,
   "id": "invisible-manitoba",
   "metadata": {},
   "outputs": [
    {
     "data": {
      "text/plain": [
       "HexBytes('0x254bb985742ac3245af288c4533152b6162d853e4f855ab792361a48f8cb69f0')"
      ]
     },
     "execution_count": 64,
     "metadata": {},
     "output_type": "execute_result"
    }
   ],
   "source": [
    "contract.functions.setUser(\"Risusuuuu\",\"male\").transact()"
   ]
  },
  {
   "cell_type": "code",
   "execution_count": 65,
   "id": "entitled-accountability",
   "metadata": {},
   "outputs": [
    {
     "data": {
      "text/plain": [
       "['0x4cbc87586da52F809D98F122331C06Ba16D6cC3A',\n",
       " '0x4cbc87586da52F809D98F122331C06Ba16D6cC3A',\n",
       " '0x4cbc87586da52F809D98F122331C06Ba16D6cC3A',\n",
       " '0xA4a4a85a3aA829384e2de7aD2B16B06EBA07A2bA',\n",
       " '0xA4a4a85a3aA829384e2de7aD2B16B06EBA07A2bA']"
      ]
     },
     "execution_count": 65,
     "metadata": {},
     "output_type": "execute_result"
    }
   ],
   "source": [
    "contract.functions.getAddresses().call()"
   ]
  },
  {
   "cell_type": "code",
   "execution_count": null,
   "id": "broken-collaboration",
   "metadata": {},
   "outputs": [],
   "source": []
  },
  {
   "cell_type": "code",
   "execution_count": null,
   "id": "expected-lindsay",
   "metadata": {},
   "outputs": [],
   "source": []
  },
  {
   "cell_type": "code",
   "execution_count": null,
   "id": "ordinary-mongolia",
   "metadata": {},
   "outputs": [],
   "source": []
  },
  {
   "cell_type": "code",
   "execution_count": null,
   "id": "potential-peter",
   "metadata": {},
   "outputs": [],
   "source": []
  },
  {
   "cell_type": "code",
   "execution_count": null,
   "id": "fiscal-payroll",
   "metadata": {},
   "outputs": [],
   "source": []
  },
  {
   "cell_type": "code",
   "execution_count": null,
   "id": "documented-certificate",
   "metadata": {},
   "outputs": [],
   "source": []
  },
  {
   "cell_type": "code",
   "execution_count": null,
   "id": "plastic-neighbor",
   "metadata": {},
   "outputs": [],
   "source": []
  },
  {
   "cell_type": "code",
   "execution_count": null,
   "id": "artistic-accent",
   "metadata": {},
   "outputs": [],
   "source": []
  },
  {
   "cell_type": "code",
   "execution_count": null,
   "id": "criminal-edinburgh",
   "metadata": {},
   "outputs": [],
   "source": []
  },
  {
   "cell_type": "code",
   "execution_count": null,
   "id": "perceived-speed",
   "metadata": {},
   "outputs": [],
   "source": []
  },
  {
   "cell_type": "code",
   "execution_count": null,
   "id": "proper-sheffield",
   "metadata": {},
   "outputs": [],
   "source": []
  },
  {
   "cell_type": "code",
   "execution_count": null,
   "id": "welcome-modeling",
   "metadata": {},
   "outputs": [],
   "source": []
  }
 ],
 "metadata": {
  "kernelspec": {
   "display_name": "Python 3",
   "language": "python",
   "name": "python3"
  },
  "language_info": {
   "codemirror_mode": {
    "name": "ipython",
    "version": 3
   },
   "file_extension": ".py",
   "mimetype": "text/x-python",
   "name": "python",
   "nbconvert_exporter": "python",
   "pygments_lexer": "ipython3",
   "version": "3.8.5"
  }
 },
 "nbformat": 4,
 "nbformat_minor": 5
}
