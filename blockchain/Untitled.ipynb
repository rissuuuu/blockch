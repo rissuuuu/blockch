{
 "cells": [
  {
   "cell_type": "code",
   "execution_count": 1,
   "id": "egyptian-portugal",
   "metadata": {},
   "outputs": [],
   "source": [
    "import time\n",
    "from web3 import Web3, HTTPProvider"
   ]
  },
  {
   "cell_type": "code",
   "execution_count": 2,
   "id": "athletic-qatar",
   "metadata": {},
   "outputs": [],
   "source": [
    "contract_address=\"0x3581642e64a092f3bdce0b6469a643e770e25737\"\n",
    "wallet_private_key=\"d5221ee3b3f0595a6eda712d5cbed1181a73d550474b2c9240cb19cab35e6634\"\n",
    "wallet_address=\"0x98aafc122f94f2f7d808d81dc943b18b55eec5a2\"\n",
    "url=\"https://ropsten.infura.io/v3/797f0db7164f4709ab71797981eb76e5\"\n",
    "\n",
    "w3=Web3(HTTPProvider(url))"
   ]
  },
  {
   "cell_type": "code",
   "execution_count": null,
   "id": "fourth-starter",
   "metadata": {},
   "outputs": [],
   "source": []
  }
 ],
 "metadata": {
  "kernelspec": {
   "display_name": "Python 3",
   "language": "python",
   "name": "python3"
  },
  "language_info": {
   "codemirror_mode": {
    "name": "ipython",
    "version": 3
   },
   "file_extension": ".py",
   "mimetype": "text/x-python",
   "name": "python",
   "nbconvert_exporter": "python",
   "pygments_lexer": "ipython3",
   "version": "3.8.5"
  }
 },
 "nbformat": 4,
 "nbformat_minor": 5
}
