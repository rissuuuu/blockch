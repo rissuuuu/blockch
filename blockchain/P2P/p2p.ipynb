{
 "cells": [
  {
   "cell_type": "code",
   "execution_count": 90,
   "id": "sexual-christopher",
   "metadata": {},
   "outputs": [],
   "source": [
    "from web3 import Web3\n",
    "from solcx import compile_source\n",
    "import pandas as pd\n",
    "from datetime import datetime"
   ]
  },
  {
   "cell_type": "code",
   "execution_count": 2,
   "id": "supposed-publicity",
   "metadata": {},
   "outputs": [],
   "source": [
    "URL=\"HTTP://127.0.0.1:7545\""
   ]
  },
  {
   "cell_type": "code",
   "execution_count": 69,
   "id": "human-award",
   "metadata": {},
   "outputs": [
    {
     "name": "stdout",
     "output_type": "stream",
     "text": [
      "Connected?: True\n",
      "['0x4cbc87586da52F809D98F122331C06Ba16D6cC3A', '0xA4a4a85a3aA829384e2de7aD2B16B06EBA07A2bA', '0x58325180563bC75A12543FD380dE90048b89700c', '0xB1ec37fA914Fcf087BC1FB394F53292f337150Be', '0x2ad1fD7BD41DBA854523ecf0E3fbef6E7fC91af1', '0x7107246e4d83cF65F0Fbc56584b274B68745f40d', '0xb40518c06eF3dad45D3F35D3e839cF9b4A230f97', '0x464244D4cfDcE7aB54694dbBcd6C3E1ddCAb8c0a', '0x9108B087b51E0fE9Fa9D37eb794386A98050Bf48', '0x426658F34b041dA97E78ae4972Af6f472b1363e4']\n"
     ]
    }
   ],
   "source": [
    "def connect(URL):\n",
    "    web3=Web3(Web3.HTTPProvider(URL))\n",
    "    print(\"Connected?:\",web3.isConnected())\n",
    "    return web3\n",
    "\n",
    "def get_user_accounts():\n",
    "    return web3.eth.accounts\n",
    "\n",
    "def create_default_account(account_hash):\n",
    "    web3.eth.default_account=account_hash\n",
    "    \n",
    "def compile_solidity(file):\n",
    "    with open(file,'r') as f:\n",
    "        source=f.read()\n",
    "    return compile_source(source)\n",
    "\n",
    "def get_abi_bytecode(compiled_sol):\n",
    "    contract_id,contract_abi=compiled_sol.popitem()\n",
    "    abi=contract_abi['abi']\n",
    "    byte_code=contract_abi['bin']\n",
    "    return abi,byte_code\n",
    "\n",
    "def deploy_contract(abi,byte_code):\n",
    "    contract=web3.eth.contract(abi=abi,bytecode=byte_code)\n",
    "    tx_hash=contract.constructor().transact()\n",
    "    tx_receipt=web3.eth.waitForTransactionReceipt(tx_hash)\n",
    "    return tx_receipt\n",
    "\n",
    "web3=connect(URL)\n",
    "print(get_user_accounts())"
   ]
  },
  {
   "cell_type": "code",
   "execution_count": 70,
   "id": "handed-louisiana",
   "metadata": {},
   "outputs": [],
   "source": [
    "create_default_account('0x4cbc87586da52F809D98F122331C06Ba16D6cC3A')"
   ]
  },
  {
   "cell_type": "code",
   "execution_count": 79,
   "id": "bulgarian-trial",
   "metadata": {},
   "outputs": [],
   "source": [
    "compiled_sol=compile_solidity('contract.sol')"
   ]
  },
  {
   "cell_type": "code",
   "execution_count": 80,
   "id": "exempt-gallery",
   "metadata": {},
   "outputs": [],
   "source": [
    "abi,byte_code=get_abi_bytecode(compiled_sol)"
   ]
  },
  {
   "cell_type": "code",
   "execution_count": 81,
   "id": "everyday-johnson",
   "metadata": {},
   "outputs": [
    {
     "data": {
      "text/plain": [
       "[{'inputs': [],\n",
       "  'name': 'getUser',\n",
       "  'outputs': [{'internalType': 'uint256', 'name': '', 'type': 'uint256'},\n",
       "   {'internalType': 'uint256', 'name': '', 'type': 'uint256'},\n",
       "   {'internalType': 'address', 'name': '', 'type': 'address'}],\n",
       "  'stateMutability': 'nonpayable',\n",
       "  'type': 'function'},\n",
       " {'inputs': [{'internalType': 'uint256',\n",
       "    'name': 'invoiceAmount',\n",
       "    'type': 'uint256'}],\n",
       "  'name': 'payAmount',\n",
       "  'outputs': [],\n",
       "  'stateMutability': 'nonpayable',\n",
       "  'type': 'function'}]"
      ]
     },
     "execution_count": 81,
     "metadata": {},
     "output_type": "execute_result"
    }
   ],
   "source": [
    "abi"
   ]
  },
  {
   "cell_type": "code",
   "execution_count": 82,
   "id": "formed-enlargement",
   "metadata": {},
   "outputs": [
    {
     "data": {
      "text/plain": [
       "'608060405234801561001057600080fd5b50610279806100206000396000f3fe608060405234801561001057600080fd5b50600436106100365760003560e01c80635f9362561461003b578063832880e714610057575b600080fd5b61005560048036038101906100509190610172565b610077565b005b61005f61011c565b60405161006e939291906101b9565b60405180910390f35b60004290506000829050600033905060405180606001604052808481526020018381526020018273ffffffffffffffffffffffffffffffffffffffff1681525060008082015181600001556020820151816001015560408201518160020160006101000a81548173ffffffffffffffffffffffffffffffffffffffff021916908373ffffffffffffffffffffffffffffffffffffffff16021790555090505050505050565b60008060008060000154600060010154600060020160009054906101000a900473ffffffffffffffffffffffffffffffffffffffff16925092509250909192565b60008135905061016c8161022c565b92915050565b60006020828403121561018457600080fd5b60006101928482850161015d565b91505092915050565b6101a4816101f0565b82525050565b6101b381610222565b82525050565b60006060820190506101ce60008301866101aa565b6101db60208301856101aa565b6101e8604083018461019b565b949350505050565b60006101fb82610202565b9050919050565b600073ffffffffffffffffffffffffffffffffffffffff82169050919050565b6000819050919050565b61023581610222565b811461024057600080fd5b5056fea264697066735822122069798e4033d8b29f04157a8d171b53647cd4e56a3e5bf0c9f92cb2d63dc358d664736f6c63430008020033'"
      ]
     },
     "execution_count": 82,
     "metadata": {},
     "output_type": "execute_result"
    }
   ],
   "source": [
    "byte_code"
   ]
  },
  {
   "cell_type": "code",
   "execution_count": 83,
   "id": "republican-juice",
   "metadata": {},
   "outputs": [],
   "source": [
    "receipt=deploy_contract(abi=abi,byte_code=byte_code)"
   ]
  },
  {
   "cell_type": "code",
   "execution_count": 84,
   "id": "weird-purple",
   "metadata": {},
   "outputs": [
    {
     "data": {
      "text/plain": [
       "AttributeDict({'transactionHash': HexBytes('0xe7317711588e1891b3ab7f62b954f22131702650e264430064b0bc899f93ef97'),\n",
       " 'transactionIndex': 0,\n",
       " 'blockHash': HexBytes('0xabed0d3b83e32438b0dd180b874920031e89674458404f654f9601b8175081af'),\n",
       " 'blockNumber': 36,\n",
       " 'from': '0x4cbc87586da52F809D98F122331C06Ba16D6cC3A',\n",
       " 'to': None,\n",
       " 'gasUsed': 189883,\n",
       " 'cumulativeGasUsed': 189883,\n",
       " 'contractAddress': '0x15c43a3430307dD1DC2e3860Ab71bf344a4008D0',\n",
       " 'logs': [],\n",
       " 'status': 1,\n",
       " 'logsBloom': HexBytes('0x00000000000000000000000000000000000000000000000000000000000000000000000000000000000000000000000000000000000000000000000000000000000000000000000000000000000000000000000000000000000000000000000000000000000000000000000000000000000000000000000000000000000000000000000000000000000000000000000000000000000000000000000000000000000000000000000000000000000000000000000000000000000000000000000000000000000000000000000000000000000000000000000000000000000000000000000000000000000000000000000000000000000000000000000000000000')})"
      ]
     },
     "execution_count": 84,
     "metadata": {},
     "output_type": "execute_result"
    }
   ],
   "source": [
    "receipt"
   ]
  },
  {
   "cell_type": "code",
   "execution_count": 85,
   "id": "dimensional-married",
   "metadata": {},
   "outputs": [],
   "source": [
    "contract=web3.eth.contract(address=receipt['contractAddress'],abi=abi)"
   ]
  },
  {
   "cell_type": "code",
   "execution_count": 88,
   "id": "happy-administrator",
   "metadata": {},
   "outputs": [
    {
     "data": {
      "text/plain": [
       "HexBytes('0xae914f0de4684b6b8a2693979b56cf83d665391e9a3ef09bd52af98727c91737')"
      ]
     },
     "execution_count": 88,
     "metadata": {},
     "output_type": "execute_result"
    }
   ],
   "source": [
    "contract.functions.payAmount(100).transact()"
   ]
  },
  {
   "cell_type": "code",
   "execution_count": 92,
   "id": "silver-pound",
   "metadata": {},
   "outputs": [
    {
     "data": {
      "text/plain": [
       "[1617637684, 100, '0x4cbc87586da52F809D98F122331C06Ba16D6cC3A']"
      ]
     },
     "execution_count": 92,
     "metadata": {},
     "output_type": "execute_result"
    }
   ],
   "source": [
    "data=contract.functions.getUser().call()\n",
    "data"
   ]
  },
  {
   "cell_type": "code",
   "execution_count": 96,
   "id": "coated-queen",
   "metadata": {},
   "outputs": [
    {
     "data": {
      "text/plain": [
       "Timestamp('2021-04-05 21:33:04')"
      ]
     },
     "execution_count": 96,
     "metadata": {},
     "output_type": "execute_result"
    }
   ],
   "source": [
    "datetime_date=datetime.fromtimestamp(data[0])\n",
    "pd.to_datetime(datetime_date)"
   ]
  },
  {
   "cell_type": "code",
   "execution_count": null,
   "id": "better-benefit",
   "metadata": {},
   "outputs": [],
   "source": [
    "\n"
   ]
  },
  {
   "cell_type": "code",
   "execution_count": null,
   "id": "general-adapter",
   "metadata": {},
   "outputs": [],
   "source": []
  },
  {
   "cell_type": "code",
   "execution_count": null,
   "id": "timely-brave",
   "metadata": {},
   "outputs": [],
   "source": []
  },
  {
   "cell_type": "code",
   "execution_count": null,
   "id": "dental-memory",
   "metadata": {},
   "outputs": [],
   "source": []
  },
  {
   "cell_type": "code",
   "execution_count": null,
   "id": "proud-period",
   "metadata": {},
   "outputs": [],
   "source": []
  },
  {
   "cell_type": "code",
   "execution_count": null,
   "id": "decreased-vietnam",
   "metadata": {},
   "outputs": [],
   "source": []
  },
  {
   "cell_type": "code",
   "execution_count": null,
   "id": "laden-angle",
   "metadata": {},
   "outputs": [],
   "source": []
  },
  {
   "cell_type": "code",
   "execution_count": null,
   "id": "informative-capability",
   "metadata": {},
   "outputs": [],
   "source": []
  },
  {
   "cell_type": "code",
   "execution_count": null,
   "id": "indirect-dairy",
   "metadata": {},
   "outputs": [],
   "source": []
  },
  {
   "cell_type": "code",
   "execution_count": null,
   "id": "pharmaceutical-screening",
   "metadata": {},
   "outputs": [],
   "source": []
  },
  {
   "cell_type": "code",
   "execution_count": null,
   "id": "informative-trunk",
   "metadata": {},
   "outputs": [],
   "source": []
  },
  {
   "cell_type": "code",
   "execution_count": null,
   "id": "daily-portal",
   "metadata": {},
   "outputs": [],
   "source": []
  },
  {
   "cell_type": "code",
   "execution_count": null,
   "id": "ordered-target",
   "metadata": {},
   "outputs": [],
   "source": []
  },
  {
   "cell_type": "code",
   "execution_count": null,
   "id": "answering-shore",
   "metadata": {},
   "outputs": [],
   "source": []
  },
  {
   "cell_type": "code",
   "execution_count": null,
   "id": "warming-honolulu",
   "metadata": {},
   "outputs": [],
   "source": []
  },
  {
   "cell_type": "code",
   "execution_count": null,
   "id": "genuine-parts",
   "metadata": {},
   "outputs": [],
   "source": []
  },
  {
   "cell_type": "code",
   "execution_count": null,
   "id": "crude-clarity",
   "metadata": {},
   "outputs": [],
   "source": []
  },
  {
   "cell_type": "code",
   "execution_count": null,
   "id": "electrical-supply",
   "metadata": {},
   "outputs": [],
   "source": []
  },
  {
   "cell_type": "code",
   "execution_count": null,
   "id": "affecting-library",
   "metadata": {},
   "outputs": [],
   "source": []
  },
  {
   "cell_type": "code",
   "execution_count": null,
   "id": "black-willow",
   "metadata": {},
   "outputs": [],
   "source": []
  },
  {
   "cell_type": "code",
   "execution_count": null,
   "id": "furnished-saying",
   "metadata": {},
   "outputs": [],
   "source": []
  },
  {
   "cell_type": "code",
   "execution_count": null,
   "id": "czech-causing",
   "metadata": {},
   "outputs": [],
   "source": []
  },
  {
   "cell_type": "code",
   "execution_count": null,
   "id": "worthy-transsexual",
   "metadata": {},
   "outputs": [],
   "source": []
  },
  {
   "cell_type": "code",
   "execution_count": null,
   "id": "sealed-brother",
   "metadata": {},
   "outputs": [],
   "source": []
  },
  {
   "cell_type": "code",
   "execution_count": null,
   "id": "waiting-injection",
   "metadata": {},
   "outputs": [],
   "source": []
  },
  {
   "cell_type": "code",
   "execution_count": null,
   "id": "featured-cornell",
   "metadata": {},
   "outputs": [],
   "source": []
  },
  {
   "cell_type": "code",
   "execution_count": null,
   "id": "still-roads",
   "metadata": {},
   "outputs": [],
   "source": []
  },
  {
   "cell_type": "code",
   "execution_count": null,
   "id": "familiar-syndicate",
   "metadata": {},
   "outputs": [],
   "source": []
  },
  {
   "cell_type": "code",
   "execution_count": null,
   "id": "inclusive-portuguese",
   "metadata": {},
   "outputs": [],
   "source": []
  }
 ],
 "metadata": {
  "kernelspec": {
   "display_name": "Python 3",
   "language": "python",
   "name": "python3"
  },
  "language_info": {
   "codemirror_mode": {
    "name": "ipython",
    "version": 3
   },
   "file_extension": ".py",
   "mimetype": "text/x-python",
   "name": "python",
   "nbconvert_exporter": "python",
   "pygments_lexer": "ipython3",
   "version": "3.8.5"
  }
 },
 "nbformat": 4,
 "nbformat_minor": 5
}
