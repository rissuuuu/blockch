{
 "cells": [
  {
   "cell_type": "code",
   "execution_count": 13,
   "id": "sexual-christopher",
   "metadata": {},
   "outputs": [],
   "source": [
    "from web3 import Web3\n",
    "from solcx import compile_source"
   ]
  },
  {
   "cell_type": "code",
   "execution_count": 8,
   "id": "supposed-publicity",
   "metadata": {},
   "outputs": [],
   "source": [
    "URL=\"HTTP://127.0.0.1:7545\""
   ]
  },
  {
   "cell_type": "code",
   "execution_count": 10,
   "id": "human-award",
   "metadata": {},
   "outputs": [],
   "source": [
    "def connect():\n",
    "    web3=Web3(Web3.HTTPProvider(URL))\n",
    "    print(\"Connected?:\",web3.isConnected())\n",
    "    return web3\n"
   ]
  },
  {
   "cell_type": "code",
   "execution_count": null,
   "id": "handed-louisiana",
   "metadata": {},
   "outputs": [],
   "source": [
    "def get_user_accounts():\n",
    "    return web3.eth.accounts"
   ]
  },
  {
   "cell_type": "code",
   "execution_count": 12,
   "id": "assisted-century",
   "metadata": {},
   "outputs": [],
   "source": [
    "def create_default_account(account_hash):\n",
    "    web3.eth.default_account=account_hash"
   ]
  },
  {
   "cell_type": "code",
   "execution_count": 14,
   "id": "pharmaceutical-arena",
   "metadata": {},
   "outputs": [],
   "source": [
    "def compile_solidity(file):\n",
    "    with open(file,'r') as f:\n",
    "        source=f.read()\n",
    "    return compile_source(source)"
   ]
  },
  {
   "cell_type": "code",
   "execution_count": 15,
   "id": "everyday-johnson",
   "metadata": {},
   "outputs": [],
   "source": [
    "def get_abi_bytecode(compiled_sol):\n",
    "    contract_id,contract_abi=compiled_sol.popitem()\n",
    "    abi=contract_abi['bin']\n",
    "    byte_code=contract_abi['bin']\n",
    "    return abi,byte_code"
   ]
  },
  {
   "cell_type": "code",
   "execution_count": null,
   "id": "formed-enlargement",
   "metadata": {},
   "outputs": [],
   "source": []
  },
  {
   "cell_type": "code",
   "execution_count": null,
   "id": "republican-juice",
   "metadata": {},
   "outputs": [],
   "source": []
  },
  {
   "cell_type": "code",
   "execution_count": null,
   "id": "dimensional-married",
   "metadata": {},
   "outputs": [],
   "source": []
  },
  {
   "cell_type": "code",
   "execution_count": null,
   "id": "happy-administrator",
   "metadata": {},
   "outputs": [],
   "source": []
  },
  {
   "cell_type": "code",
   "execution_count": null,
   "id": "silver-pound",
   "metadata": {},
   "outputs": [],
   "source": []
  },
  {
   "cell_type": "code",
   "execution_count": null,
   "id": "coated-queen",
   "metadata": {},
   "outputs": [],
   "source": []
  }
 ],
 "metadata": {
  "kernelspec": {
   "display_name": "Python 3",
   "language": "python",
   "name": "python3"
  },
  "language_info": {
   "codemirror_mode": {
    "name": "ipython",
    "version": 3
   },
   "file_extension": ".py",
   "mimetype": "text/x-python",
   "name": "python",
   "nbconvert_exporter": "python",
   "pygments_lexer": "ipython3",
   "version": "3.8.5"
  }
 },
 "nbformat": 4,
 "nbformat_minor": 5
}
