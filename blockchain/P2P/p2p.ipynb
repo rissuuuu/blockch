{
 "cells": [
  {
   "cell_type": "code",
   "execution_count": 1,
   "id": "sexual-christopher",
   "metadata": {},
   "outputs": [],
   "source": [
    "from web3 import Web3\n",
    "from solcx import compile_source\n",
    "import pandas as pd\n",
    "from datetime import datetime"
   ]
  },
  {
   "cell_type": "code",
   "execution_count": 2,
   "id": "supposed-publicity",
   "metadata": {},
   "outputs": [],
   "source": [
    "URL=\"HTTP://127.0.0.1:7545\""
   ]
  },
  {
   "cell_type": "code",
   "execution_count": 15,
   "id": "human-award",
   "metadata": {},
   "outputs": [
    {
     "name": "stdout",
     "output_type": "stream",
     "text": [
      "Connected?: True\n",
      "['0x4cbc87586da52F809D98F122331C06Ba16D6cC3A', '0xA4a4a85a3aA829384e2de7aD2B16B06EBA07A2bA', '0x58325180563bC75A12543FD380dE90048b89700c', '0xB1ec37fA914Fcf087BC1FB394F53292f337150Be', '0x2ad1fD7BD41DBA854523ecf0E3fbef6E7fC91af1', '0x7107246e4d83cF65F0Fbc56584b274B68745f40d', '0xb40518c06eF3dad45D3F35D3e839cF9b4A230f97', '0x464244D4cfDcE7aB54694dbBcd6C3E1ddCAb8c0a', '0x9108B087b51E0fE9Fa9D37eb794386A98050Bf48', '0x426658F34b041dA97E78ae4972Af6f472b1363e4']\n"
     ]
    }
   ],
   "source": [
    "def connect(URL):\n",
    "    web3=Web3(Web3.HTTPProvider(URL))\n",
    "    print(\"Connected?:\",web3.isConnected())\n",
    "    return web3\n",
    "\n",
    "def get_user_accounts():\n",
    "    return web3.eth.accounts\n",
    "\n",
    "def create_default_account(account_hash):\n",
    "    web3.eth.default_account=account_hash\n",
    "    \n",
    "def compile_solidity(file):\n",
    "    with open(file,'r') as f:\n",
    "        source=f.read()\n",
    "    return compile_source(source)\n",
    "\n",
    "def get_abi_bytecode(compiled_sol):\n",
    "    contract_id,contract_abi=compiled_sol.popitem()\n",
    "    abi=contract_abi['abi']\n",
    "    byte_code=contract_abi['bin']\n",
    "    return abi,byte_code\n",
    "\n",
    "def deploy_contract(abi,byte_code):\n",
    "    contract=web3.eth.contract(abi=abi,bytecode=byte_code)\n",
    "    tx_hash=contract.constructor().transact()\n",
    "    tx_receipt=web3.eth.waitForTransactionReceipt(tx_hash)\n",
    "    return tx_receipt\n",
    "\n",
    "web3=connect(URL)\n",
    "print(get_user_accounts())"
   ]
  },
  {
   "cell_type": "code",
   "execution_count": 16,
   "id": "handed-louisiana",
   "metadata": {},
   "outputs": [],
   "source": [
    "create_default_account('0x4cbc87586da52F809D98F122331C06Ba16D6cC3A')"
   ]
  },
  {
   "cell_type": "code",
   "execution_count": 18,
   "id": "growing-wayne",
   "metadata": {
    "scrolled": false
   },
   "outputs": [],
   "source": [
    "compiled_sol=compile_solidity('contract.sol')"
   ]
  },
  {
   "cell_type": "code",
   "execution_count": 19,
   "id": "exempt-gallery",
   "metadata": {},
   "outputs": [],
   "source": [
    "abi,byte_code=get_abi_bytecode(compiled_sol)"
   ]
  },
  {
   "cell_type": "code",
   "execution_count": 20,
   "id": "everyday-johnson",
   "metadata": {},
   "outputs": [
    {
     "data": {
      "text/plain": [
       "[{'inputs': [], 'stateMutability': 'nonpayable', 'type': 'constructor'},\n",
       " {'inputs': [],\n",
       "  'name': 'amount',\n",
       "  'outputs': [{'internalType': 'uint256', 'name': '', 'type': 'uint256'}],\n",
       "  'stateMutability': 'view',\n",
       "  'type': 'function'},\n",
       " {'inputs': [],\n",
       "  'name': 'getUser',\n",
       "  'outputs': [{'internalType': 'uint256', 'name': '', 'type': 'uint256'},\n",
       "   {'internalType': 'uint256', 'name': '', 'type': 'uint256'},\n",
       "   {'internalType': 'address', 'name': '', 'type': 'address'},\n",
       "   {'internalType': 'address', 'name': '', 'type': 'address'}],\n",
       "  'stateMutability': 'nonpayable',\n",
       "  'type': 'function'},\n",
       " {'inputs': [{'internalType': 'uint256',\n",
       "    'name': 'invoiceAmount',\n",
       "    'type': 'uint256'},\n",
       "   {'internalType': 'address', 'name': 'to', 'type': 'address'}],\n",
       "  'name': 'payAmount',\n",
       "  'outputs': [],\n",
       "  'stateMutability': 'nonpayable',\n",
       "  'type': 'function'},\n",
       " {'inputs': [],\n",
       "  'name': 'payme',\n",
       "  'outputs': [],\n",
       "  'stateMutability': 'payable',\n",
       "  'type': 'function'}]"
      ]
     },
     "execution_count": 20,
     "metadata": {},
     "output_type": "execute_result"
    }
   ],
   "source": [
    "abi"
   ]
  },
  {
   "cell_type": "code",
   "execution_count": 21,
   "id": "formed-enlargement",
   "metadata": {},
   "outputs": [
    {
     "data": {
      "text/plain": [
       "'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'"
      ]
     },
     "execution_count": 21,
     "metadata": {},
     "output_type": "execute_result"
    }
   ],
   "source": [
    "byte_code"
   ]
  },
  {
   "cell_type": "code",
   "execution_count": 22,
   "id": "republican-juice",
   "metadata": {},
   "outputs": [],
   "source": [
    "receipt=deploy_contract(abi=abi,byte_code=byte_code)"
   ]
  },
  {
   "cell_type": "code",
   "execution_count": 23,
   "id": "appointed-capture",
   "metadata": {},
   "outputs": [
    {
     "data": {
      "text/plain": [
       "AttributeDict({'transactionHash': HexBytes('0x8d346093775c0d42d974837faf8dc9970f7f0b330b92d4365308b14d9c99d7a8'),\n",
       " 'transactionIndex': 0,\n",
       " 'blockHash': HexBytes('0xc3fc06fefb1cc8047bb23c6f2f3866c05b36403ee34642d8259cb692527342d5'),\n",
       " 'blockNumber': 46,\n",
       " 'from': '0x4cbc87586da52F809D98F122331C06Ba16D6cC3A',\n",
       " 'to': None,\n",
       " 'gasUsed': 320987,\n",
       " 'cumulativeGasUsed': 320987,\n",
       " 'contractAddress': '0xf0632C92e6FA2F1331fCc098B37d46e673170A88',\n",
       " 'logs': [],\n",
       " 'status': 1,\n",
       " 'logsBloom': HexBytes('0x00000000000000000000000000000000000000000000000000000000000000000000000000000000000000000000000000000000000000000000000000000000000000000000000000000000000000000000000000000000000000000000000000000000000000000000000000000000000000000000000000000000000000000000000000000000000000000000000000000000000000000000000000000000000000000000000000000000000000000000000000000000000000000000000000000000000000000000000000000000000000000000000000000000000000000000000000000000000000000000000000000000000000000000000000000000')})"
      ]
     },
     "execution_count": 23,
     "metadata": {},
     "output_type": "execute_result"
    }
   ],
   "source": [
    "receipt"
   ]
  },
  {
   "cell_type": "code",
   "execution_count": 24,
   "id": "dimensional-married",
   "metadata": {},
   "outputs": [],
   "source": [
    "contract=web3.eth.contract(address=receipt['contractAddress'],abi=abi)"
   ]
  },
  {
   "cell_type": "code",
   "execution_count": null,
   "id": "failing-federal",
   "metadata": {},
   "outputs": [],
   "source": []
  },
  {
   "cell_type": "code",
   "execution_count": 25,
   "id": "happy-administrator",
   "metadata": {},
   "outputs": [
    {
     "data": {
      "text/plain": [
       "HexBytes('0x91d51d3c548a3a182c156695ef4016b9cb0369883d6a7a56c0f076ce0146c375')"
      ]
     },
     "execution_count": 25,
     "metadata": {},
     "output_type": "execute_result"
    }
   ],
   "source": [
    "contract.functions.payAmount(100,\"0x58325180563bC75A12543FD380dE90048b89700c\").transact()"
   ]
  },
  {
   "cell_type": "code",
   "execution_count": 26,
   "id": "silver-pound",
   "metadata": {},
   "outputs": [
    {
     "data": {
      "text/plain": [
       "[1617806949,\n",
       " 100,\n",
       " '0x4cbc87586da52F809D98F122331C06Ba16D6cC3A',\n",
       " '0x58325180563bC75A12543FD380dE90048b89700c']"
      ]
     },
     "execution_count": 26,
     "metadata": {},
     "output_type": "execute_result"
    }
   ],
   "source": [
    "data=contract.functions.getUser().call()\n",
    "data"
   ]
  },
  {
   "cell_type": "code",
   "execution_count": 27,
   "id": "coated-queen",
   "metadata": {},
   "outputs": [
    {
     "data": {
      "text/plain": [
       "Timestamp('2021-04-07 20:34:09')"
      ]
     },
     "execution_count": 27,
     "metadata": {},
     "output_type": "execute_result"
    }
   ],
   "source": [
    "datetime_date=datetime.fromtimestamp(data[0])\n",
    "pd.to_datetime(datetime_date)"
   ]
  },
  {
   "cell_type": "code",
   "execution_count": 31,
   "id": "lovely-substitute",
   "metadata": {},
   "outputs": [
    {
     "data": {
      "text/plain": [
       "0"
      ]
     },
     "execution_count": 31,
     "metadata": {},
     "output_type": "execute_result"
    }
   ],
   "source": [
    "contract.functions.amount().call()"
   ]
  },
  {
   "cell_type": "code",
   "execution_count": null,
   "id": "dense-ability",
   "metadata": {},
   "outputs": [],
   "source": []
  },
  {
   "cell_type": "code",
   "execution_count": null,
   "id": "stock-luxembourg",
   "metadata": {},
   "outputs": [],
   "source": []
  },
  {
   "cell_type": "code",
   "execution_count": null,
   "id": "better-lighter",
   "metadata": {},
   "outputs": [],
   "source": []
  },
  {
   "cell_type": "code",
   "execution_count": null,
   "id": "armed-glory",
   "metadata": {},
   "outputs": [],
   "source": []
  },
  {
   "cell_type": "code",
   "execution_count": null,
   "id": "structured-county",
   "metadata": {},
   "outputs": [],
   "source": []
  },
  {
   "cell_type": "code",
   "execution_count": null,
   "id": "worse-gossip",
   "metadata": {},
   "outputs": [],
   "source": []
  },
  {
   "cell_type": "code",
   "execution_count": null,
   "id": "large-debut",
   "metadata": {},
   "outputs": [],
   "source": []
  },
  {
   "cell_type": "code",
   "execution_count": null,
   "id": "wicked-keeping",
   "metadata": {},
   "outputs": [],
   "source": []
  },
  {
   "cell_type": "code",
   "execution_count": null,
   "id": "alleged-culture",
   "metadata": {},
   "outputs": [],
   "source": []
  },
  {
   "cell_type": "code",
   "execution_count": null,
   "id": "honest-editing",
   "metadata": {},
   "outputs": [],
   "source": []
  },
  {
   "cell_type": "code",
   "execution_count": null,
   "id": "absolute-province",
   "metadata": {},
   "outputs": [],
   "source": []
  },
  {
   "cell_type": "code",
   "execution_count": null,
   "id": "mental-kingston",
   "metadata": {},
   "outputs": [],
   "source": []
  },
  {
   "cell_type": "code",
   "execution_count": null,
   "id": "wrapped-fitness",
   "metadata": {},
   "outputs": [],
   "source": []
  },
  {
   "cell_type": "code",
   "execution_count": null,
   "id": "loose-giving",
   "metadata": {},
   "outputs": [],
   "source": []
  },
  {
   "cell_type": "code",
   "execution_count": null,
   "id": "leading-atmosphere",
   "metadata": {},
   "outputs": [],
   "source": []
  },
  {
   "cell_type": "code",
   "execution_count": null,
   "id": "manufactured-parliament",
   "metadata": {},
   "outputs": [],
   "source": []
  },
  {
   "cell_type": "code",
   "execution_count": null,
   "id": "filled-repeat",
   "metadata": {},
   "outputs": [],
   "source": []
  },
  {
   "cell_type": "code",
   "execution_count": null,
   "id": "promotional-vehicle",
   "metadata": {},
   "outputs": [],
   "source": []
  },
  {
   "cell_type": "code",
   "execution_count": null,
   "id": "alive-sweet",
   "metadata": {},
   "outputs": [],
   "source": []
  },
  {
   "cell_type": "code",
   "execution_count": null,
   "id": "fluid-lease",
   "metadata": {},
   "outputs": [],
   "source": []
  },
  {
   "cell_type": "code",
   "execution_count": null,
   "id": "dressed-livestock",
   "metadata": {},
   "outputs": [],
   "source": []
  },
  {
   "cell_type": "code",
   "execution_count": null,
   "id": "smart-mainstream",
   "metadata": {},
   "outputs": [],
   "source": []
  },
  {
   "cell_type": "code",
   "execution_count": null,
   "id": "frequent-arctic",
   "metadata": {},
   "outputs": [],
   "source": []
  },
  {
   "cell_type": "code",
   "execution_count": null,
   "id": "confidential-jefferson",
   "metadata": {},
   "outputs": [],
   "source": []
  },
  {
   "cell_type": "code",
   "execution_count": null,
   "id": "liberal-acquisition",
   "metadata": {},
   "outputs": [],
   "source": []
  },
  {
   "cell_type": "code",
   "execution_count": null,
   "id": "temporal-match",
   "metadata": {},
   "outputs": [],
   "source": []
  },
  {
   "cell_type": "code",
   "execution_count": null,
   "id": "athletic-ground",
   "metadata": {},
   "outputs": [],
   "source": []
  },
  {
   "cell_type": "code",
   "execution_count": null,
   "id": "black-quality",
   "metadata": {},
   "outputs": [],
   "source": []
  }
 ],
 "metadata": {
  "kernelspec": {
   "display_name": "Python 3",
   "language": "python",
   "name": "python3"
  },
  "language_info": {
   "codemirror_mode": {
    "name": "ipython",
    "version": 3
   },
   "file_extension": ".py",
   "mimetype": "text/x-python",
   "name": "python",
   "nbconvert_exporter": "python",
   "pygments_lexer": "ipython3",
   "version": "3.8.5"
  }
 },
 "nbformat": 4,
 "nbformat_minor": 5
}
