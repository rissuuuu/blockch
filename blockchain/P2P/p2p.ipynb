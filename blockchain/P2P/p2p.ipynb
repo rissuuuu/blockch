{
 "cells": [
  {
   "cell_type": "code",
   "execution_count": 3,
   "id": "sexual-christopher",
   "metadata": {},
   "outputs": [],
   "source": [
    "from web3 import Web3"
   ]
  },
  {
   "cell_type": "code",
   "execution_count": 4,
   "id": "supposed-publicity",
   "metadata": {},
   "outputs": [],
   "source": [
    "url=\"HTTP://127.0.0.1:7545\""
   ]
  },
  {
   "cell_type": "code",
   "execution_count": 5,
   "id": "human-award",
   "metadata": {},
   "outputs": [],
   "source": [
    "web3=Web3(Web3.HTTPProvider(url))"
   ]
  },
  {
   "cell_type": "code",
   "execution_count": 6,
   "id": "handed-louisiana",
   "metadata": {},
   "outputs": [
    {
     "data": {
      "text/plain": [
       "True"
      ]
     },
     "execution_count": 6,
     "metadata": {},
     "output_type": "execute_result"
    }
   ],
   "source": [
    "web3.isConnected()"
   ]
  },
  {
   "cell_type": "code",
   "execution_count": 7,
   "id": "assisted-century",
   "metadata": {},
   "outputs": [
    {
     "data": {
      "text/plain": [
       "['0x4cbc87586da52F809D98F122331C06Ba16D6cC3A',\n",
       " '0xA4a4a85a3aA829384e2de7aD2B16B06EBA07A2bA',\n",
       " '0x58325180563bC75A12543FD380dE90048b89700c',\n",
       " '0xB1ec37fA914Fcf087BC1FB394F53292f337150Be',\n",
       " '0x2ad1fD7BD41DBA854523ecf0E3fbef6E7fC91af1',\n",
       " '0x7107246e4d83cF65F0Fbc56584b274B68745f40d',\n",
       " '0xb40518c06eF3dad45D3F35D3e839cF9b4A230f97',\n",
       " '0x464244D4cfDcE7aB54694dbBcd6C3E1ddCAb8c0a',\n",
       " '0x9108B087b51E0fE9Fa9D37eb794386A98050Bf48',\n",
       " '0x426658F34b041dA97E78ae4972Af6f472b1363e4']"
      ]
     },
     "execution_count": 7,
     "metadata": {},
     "output_type": "execute_result"
    }
   ],
   "source": [
    "web3.eth.accounts"
   ]
  },
  {
   "cell_type": "code",
   "execution_count": 9,
   "id": "everyday-johnson",
   "metadata": {},
   "outputs": [],
   "source": [
    "web3.eth.default_account=web3.eth.accounts[0]"
   ]
  },
  {
   "cell_type": "code",
   "execution_count": null,
   "id": "formed-enlargement",
   "metadata": {},
   "outputs": [],
   "source": []
  },
  {
   "cell_type": "code",
   "execution_count": null,
   "id": "republican-juice",
   "metadata": {},
   "outputs": [],
   "source": []
  },
  {
   "cell_type": "code",
   "execution_count": null,
   "id": "dimensional-married",
   "metadata": {},
   "outputs": [],
   "source": []
  },
  {
   "cell_type": "code",
   "execution_count": null,
   "id": "happy-administrator",
   "metadata": {},
   "outputs": [],
   "source": []
  },
  {
   "cell_type": "code",
   "execution_count": null,
   "id": "silver-pound",
   "metadata": {},
   "outputs": [],
   "source": []
  },
  {
   "cell_type": "code",
   "execution_count": null,
   "id": "coated-queen",
   "metadata": {},
   "outputs": [],
   "source": []
  }
 ],
 "metadata": {
  "kernelspec": {
   "display_name": "Python 3",
   "language": "python",
   "name": "python3"
  },
  "language_info": {
   "codemirror_mode": {
    "name": "ipython",
    "version": 3
   },
   "file_extension": ".py",
   "mimetype": "text/x-python",
   "name": "python",
   "nbconvert_exporter": "python",
   "pygments_lexer": "ipython3",
   "version": "3.8.5"
  }
 },
 "nbformat": 4,
 "nbformat_minor": 5
}
