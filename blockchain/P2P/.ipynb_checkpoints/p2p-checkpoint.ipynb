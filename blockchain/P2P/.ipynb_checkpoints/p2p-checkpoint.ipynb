{
 "cells": [
  {
   "cell_type": "code",
   "execution_count": 90,
   "id": "sexual-christopher",
   "metadata": {},
   "outputs": [],
   "source": [
    "from web3 import Web3\n",
    "from solcx import compile_source\n",
    "import pandas as pd\n",
    "from datetime import datetime"
   ]
  },
  {
   "cell_type": "code",
   "execution_count": 2,
   "id": "supposed-publicity",
   "metadata": {},
   "outputs": [],
   "source": [
    "URL=\"HTTP://127.0.0.1:7545\""
   ]
  },
  {
   "cell_type": "code",
   "execution_count": 97,
   "id": "human-award",
   "metadata": {},
   "outputs": [
    {
     "name": "stdout",
     "output_type": "stream",
     "text": [
      "Connected?: True\n",
      "['0x4cbc87586da52F809D98F122331C06Ba16D6cC3A', '0xA4a4a85a3aA829384e2de7aD2B16B06EBA07A2bA', '0x58325180563bC75A12543FD380dE90048b89700c', '0xB1ec37fA914Fcf087BC1FB394F53292f337150Be', '0x2ad1fD7BD41DBA854523ecf0E3fbef6E7fC91af1', '0x7107246e4d83cF65F0Fbc56584b274B68745f40d', '0xb40518c06eF3dad45D3F35D3e839cF9b4A230f97', '0x464244D4cfDcE7aB54694dbBcd6C3E1ddCAb8c0a', '0x9108B087b51E0fE9Fa9D37eb794386A98050Bf48', '0x426658F34b041dA97E78ae4972Af6f472b1363e4']\n"
     ]
    }
   ],
   "source": [
    "def connect(URL):\n",
    "    web3=Web3(Web3.HTTPProvider(URL))\n",
    "    print(\"Connected?:\",web3.isConnected())\n",
    "    return web3\n",
    "\n",
    "def get_user_accounts():\n",
    "    return web3.eth.accounts\n",
    "\n",
    "def create_default_account(account_hash):\n",
    "    web3.eth.default_account=account_hash\n",
    "    \n",
    "def compile_solidity(file):\n",
    "    with open(file,'r') as f:\n",
    "        source=f.read()\n",
    "    return compile_source(source)\n",
    "\n",
    "def get_abi_bytecode(compiled_sol):\n",
    "    contract_id,contract_abi=compiled_sol.popitem()\n",
    "    abi=contract_abi['abi']\n",
    "    byte_code=contract_abi['bin']\n",
    "    return abi,byte_code\n",
    "\n",
    "def deploy_contract(abi,byte_code):\n",
    "    contract=web3.eth.contract(abi=abi,bytecode=byte_code)\n",
    "    tx_hash=contract.constructor().transact()\n",
    "    tx_receipt=web3.eth.waitForTransactionReceipt(tx_hash)\n",
    "    return tx_receipt\n",
    "\n",
    "web3=connect(URL)\n",
    "print(get_user_accounts())"
   ]
  },
  {
   "cell_type": "code",
   "execution_count": 98,
   "id": "handed-louisiana",
   "metadata": {},
   "outputs": [],
   "source": [
    "create_default_account('0x4cbc87586da52F809D98F122331C06Ba16D6cC3A')"
   ]
  },
  {
   "cell_type": "code",
   "execution_count": 114,
   "id": "growing-wayne",
   "metadata": {
    "scrolled": false
   },
   "outputs": [],
   "source": [
    "compiled_sol=compile_solidity('contract.sol')"
   ]
  },
  {
   "cell_type": "code",
   "execution_count": 115,
   "id": "exempt-gallery",
   "metadata": {},
   "outputs": [],
   "source": [
    "abi,byte_code=get_abi_bytecode(compiled_sol)"
   ]
  },
  {
   "cell_type": "code",
   "execution_count": 116,
   "id": "everyday-johnson",
   "metadata": {},
   "outputs": [
    {
     "data": {
      "text/plain": [
       "[{'inputs': [],\n",
       "  'name': 'getUser',\n",
       "  'outputs': [{'internalType': 'uint256', 'name': '', 'type': 'uint256'},\n",
       "   {'internalType': 'uint256', 'name': '', 'type': 'uint256'},\n",
       "   {'internalType': 'address', 'name': '', 'type': 'address'},\n",
       "   {'internalType': 'address', 'name': '', 'type': 'address'}],\n",
       "  'stateMutability': 'nonpayable',\n",
       "  'type': 'function'},\n",
       " {'inputs': [{'internalType': 'uint256',\n",
       "    'name': 'invoiceAmount',\n",
       "    'type': 'uint256'},\n",
       "   {'internalType': 'address', 'name': 'to', 'type': 'address'}],\n",
       "  'name': 'payAmount',\n",
       "  'outputs': [],\n",
       "  'stateMutability': 'nonpayable',\n",
       "  'type': 'function'}]"
      ]
     },
     "execution_count": 116,
     "metadata": {},
     "output_type": "execute_result"
    }
   ],
   "source": [
    "abi"
   ]
  },
  {
   "cell_type": "code",
   "execution_count": 117,
   "id": "formed-enlargement",
   "metadata": {},
   "outputs": [
    {
     "data": {
      "text/plain": [
       "'608060405234801561001057600080fd5b5061035b806100206000396000f3fe608060405234801561001057600080fd5b50600436106100365760003560e01c8063832880e71461003b57806396bc67851461005c575b600080fd5b610043610078565b6040516100539493929190610276565b60405180910390f35b6100766004803603810190610071919061021c565b6100e3565b005b6000806000806000800154600060010154600060020160009054906101000a900473ffffffffffffffffffffffffffffffffffffffff16600060030160009054906101000a900473ffffffffffffffffffffffffffffffffffffffff16935093509350935090919293565b600042905060008390506000839050600033905060405180608001604052808581526020018481526020018273ffffffffffffffffffffffffffffffffffffffff1681526020018373ffffffffffffffffffffffffffffffffffffffff1681525060008082015181600001556020820151816001015560408201518160020160006101000a81548173ffffffffffffffffffffffffffffffffffffffff021916908373ffffffffffffffffffffffffffffffffffffffff16021790555060608201518160030160006101000a81548173ffffffffffffffffffffffffffffffffffffffff021916908373ffffffffffffffffffffffffffffffffffffffff160217905550905050505050505050565b600081359050610201816102f7565b92915050565b6000813590506102168161030e565b92915050565b6000806040838503121561022f57600080fd5b600061023d85828601610207565b925050602061024e858286016101f2565b9150509250929050565b610261816102bb565b82525050565b610270816102ed565b82525050565b600060808201905061028b6000830187610267565b6102986020830186610267565b6102a56040830185610258565b6102b26060830184610258565b95945050505050565b60006102c6826102cd565b9050919050565b600073ffffffffffffffffffffffffffffffffffffffff82169050919050565b6000819050919050565b610300816102bb565b811461030b57600080fd5b50565b610317816102ed565b811461032257600080fd5b5056fea26469706673582212209609acc185f96631a6d9a1751176f4bbece15792dc298bcb62573ac17d5df9a464736f6c63430008020033'"
      ]
     },
     "execution_count": 117,
     "metadata": {},
     "output_type": "execute_result"
    }
   ],
   "source": [
    "byte_code"
   ]
  },
  {
   "cell_type": "code",
   "execution_count": 118,
   "id": "republican-juice",
   "metadata": {},
   "outputs": [],
   "source": [
    "receipt=deploy_contract(abi=abi,byte_code=byte_code)"
   ]
  },
  {
   "cell_type": "code",
   "execution_count": 119,
   "id": "appointed-capture",
   "metadata": {},
   "outputs": [
    {
     "data": {
      "text/plain": [
       "AttributeDict({'transactionHash': HexBytes('0x4a717da1c52b0b7e7dcd44eae29c525920cdcf2fac70d0f96efb3ee6681f9a5c'),\n",
       " 'transactionIndex': 0,\n",
       " 'blockHash': HexBytes('0xb02ccf3ac31b5138c32d946baa67452d94bf362eb5461b1bc4904c0d750b8e5f'),\n",
       " 'blockNumber': 40,\n",
       " 'from': '0x4cbc87586da52F809D98F122331C06Ba16D6cC3A',\n",
       " 'to': None,\n",
       " 'gasUsed': 238622,\n",
       " 'cumulativeGasUsed': 238622,\n",
       " 'contractAddress': '0xaF177717125aD2726afc0CA3DB0499B06e61c923',\n",
       " 'logs': [],\n",
       " 'status': 1,\n",
       " 'logsBloom': HexBytes('0x00000000000000000000000000000000000000000000000000000000000000000000000000000000000000000000000000000000000000000000000000000000000000000000000000000000000000000000000000000000000000000000000000000000000000000000000000000000000000000000000000000000000000000000000000000000000000000000000000000000000000000000000000000000000000000000000000000000000000000000000000000000000000000000000000000000000000000000000000000000000000000000000000000000000000000000000000000000000000000000000000000000000000000000000000000000')})"
      ]
     },
     "execution_count": 119,
     "metadata": {},
     "output_type": "execute_result"
    }
   ],
   "source": [
    "receipt"
   ]
  },
  {
   "cell_type": "code",
   "execution_count": 120,
   "id": "dimensional-married",
   "metadata": {},
   "outputs": [],
   "source": [
    "contract=web3.eth.contract(address=receipt['contractAddress'],abi=abi)"
   ]
  },
  {
   "cell_type": "code",
   "execution_count": null,
   "id": "failing-federal",
   "metadata": {},
   "outputs": [],
   "source": []
  },
  {
   "cell_type": "code",
   "execution_count": 123,
   "id": "happy-administrator",
   "metadata": {},
   "outputs": [
    {
     "data": {
      "text/plain": [
       "HexBytes('0x5e8d4e359f3acd0178aaf6f3191394a44dfa131da16bbdaea174a775998706cf')"
      ]
     },
     "execution_count": 123,
     "metadata": {},
     "output_type": "execute_result"
    }
   ],
   "source": [
    "contract.functions.payAmount(100,\"0x58325180563bC75A12543FD380dE90048b89700c\").transact()"
   ]
  },
  {
   "cell_type": "code",
   "execution_count": 124,
   "id": "silver-pound",
   "metadata": {},
   "outputs": [
    {
     "data": {
      "text/plain": [
       "[1617638508,\n",
       " 100,\n",
       " '0x4cbc87586da52F809D98F122331C06Ba16D6cC3A',\n",
       " '0x58325180563bC75A12543FD380dE90048b89700c']"
      ]
     },
     "execution_count": 124,
     "metadata": {},
     "output_type": "execute_result"
    }
   ],
   "source": [
    "data=contract.functions.getUser().call()\n",
    "data"
   ]
  },
  {
   "cell_type": "code",
   "execution_count": 125,
   "id": "coated-queen",
   "metadata": {},
   "outputs": [
    {
     "data": {
      "text/plain": [
       "Timestamp('2021-04-05 21:46:48')"
      ]
     },
     "execution_count": 125,
     "metadata": {},
     "output_type": "execute_result"
    }
   ],
   "source": [
    "datetime_date=datetime.fromtimestamp(data[0])\n",
    "pd.to_datetime(datetime_date)"
   ]
  },
  {
   "cell_type": "code",
   "execution_count": null,
   "id": "lovely-substitute",
   "metadata": {},
   "outputs": [],
   "source": [
    "\n"
   ]
  },
  {
   "cell_type": "code",
   "execution_count": null,
   "id": "dense-ability",
   "metadata": {},
   "outputs": [],
   "source": []
  },
  {
   "cell_type": "code",
   "execution_count": null,
   "id": "stock-luxembourg",
   "metadata": {},
   "outputs": [],
   "source": []
  },
  {
   "cell_type": "code",
   "execution_count": null,
   "id": "better-lighter",
   "metadata": {},
   "outputs": [],
   "source": []
  },
  {
   "cell_type": "code",
   "execution_count": null,
   "id": "armed-glory",
   "metadata": {},
   "outputs": [],
   "source": []
  },
  {
   "cell_type": "code",
   "execution_count": null,
   "id": "structured-county",
   "metadata": {},
   "outputs": [],
   "source": []
  },
  {
   "cell_type": "code",
   "execution_count": null,
   "id": "worse-gossip",
   "metadata": {},
   "outputs": [],
   "source": []
  },
  {
   "cell_type": "code",
   "execution_count": null,
   "id": "large-debut",
   "metadata": {},
   "outputs": [],
   "source": []
  },
  {
   "cell_type": "code",
   "execution_count": null,
   "id": "wicked-keeping",
   "metadata": {},
   "outputs": [],
   "source": []
  },
  {
   "cell_type": "code",
   "execution_count": null,
   "id": "alleged-culture",
   "metadata": {},
   "outputs": [],
   "source": []
  },
  {
   "cell_type": "code",
   "execution_count": null,
   "id": "honest-editing",
   "metadata": {},
   "outputs": [],
   "source": []
  },
  {
   "cell_type": "code",
   "execution_count": null,
   "id": "absolute-province",
   "metadata": {},
   "outputs": [],
   "source": []
  },
  {
   "cell_type": "code",
   "execution_count": null,
   "id": "mental-kingston",
   "metadata": {},
   "outputs": [],
   "source": []
  },
  {
   "cell_type": "code",
   "execution_count": null,
   "id": "wrapped-fitness",
   "metadata": {},
   "outputs": [],
   "source": []
  },
  {
   "cell_type": "code",
   "execution_count": null,
   "id": "loose-giving",
   "metadata": {},
   "outputs": [],
   "source": []
  },
  {
   "cell_type": "code",
   "execution_count": null,
   "id": "leading-atmosphere",
   "metadata": {},
   "outputs": [],
   "source": []
  },
  {
   "cell_type": "code",
   "execution_count": null,
   "id": "manufactured-parliament",
   "metadata": {},
   "outputs": [],
   "source": []
  },
  {
   "cell_type": "code",
   "execution_count": null,
   "id": "filled-repeat",
   "metadata": {},
   "outputs": [],
   "source": []
  },
  {
   "cell_type": "code",
   "execution_count": null,
   "id": "promotional-vehicle",
   "metadata": {},
   "outputs": [],
   "source": []
  },
  {
   "cell_type": "code",
   "execution_count": null,
   "id": "alive-sweet",
   "metadata": {},
   "outputs": [],
   "source": []
  },
  {
   "cell_type": "code",
   "execution_count": null,
   "id": "fluid-lease",
   "metadata": {},
   "outputs": [],
   "source": []
  },
  {
   "cell_type": "code",
   "execution_count": null,
   "id": "dressed-livestock",
   "metadata": {},
   "outputs": [],
   "source": []
  },
  {
   "cell_type": "code",
   "execution_count": null,
   "id": "smart-mainstream",
   "metadata": {},
   "outputs": [],
   "source": []
  },
  {
   "cell_type": "code",
   "execution_count": null,
   "id": "frequent-arctic",
   "metadata": {},
   "outputs": [],
   "source": []
  },
  {
   "cell_type": "code",
   "execution_count": null,
   "id": "confidential-jefferson",
   "metadata": {},
   "outputs": [],
   "source": []
  },
  {
   "cell_type": "code",
   "execution_count": null,
   "id": "liberal-acquisition",
   "metadata": {},
   "outputs": [],
   "source": []
  },
  {
   "cell_type": "code",
   "execution_count": null,
   "id": "temporal-match",
   "metadata": {},
   "outputs": [],
   "source": []
  },
  {
   "cell_type": "code",
   "execution_count": null,
   "id": "athletic-ground",
   "metadata": {},
   "outputs": [],
   "source": []
  },
  {
   "cell_type": "code",
   "execution_count": null,
   "id": "black-quality",
   "metadata": {},
   "outputs": [],
   "source": []
  }
 ],
 "metadata": {
  "kernelspec": {
   "display_name": "Python 3",
   "language": "python",
   "name": "python3"
  },
  "language_info": {
   "codemirror_mode": {
    "name": "ipython",
    "version": 3
   },
   "file_extension": ".py",
   "mimetype": "text/x-python",
   "name": "python",
   "nbconvert_exporter": "python",
   "pygments_lexer": "ipython3",
   "version": "3.8.5"
  }
 },
 "nbformat": 4,
 "nbformat_minor": 5
}
