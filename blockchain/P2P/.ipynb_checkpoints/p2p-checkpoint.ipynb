{
 "cells": [
  {
   "cell_type": "code",
   "execution_count": 1,
   "id": "sexual-christopher",
   "metadata": {},
   "outputs": [],
   "source": [
    "from web3 import Web3\n",
    "from solcx import compile_source\n",
    "import pandas as pd\n",
    "from datetime import datetime"
   ]
  },
  {
   "cell_type": "code",
   "execution_count": 2,
   "id": "supposed-publicity",
   "metadata": {},
   "outputs": [],
   "source": [
    "URL=\"HTTP://127.0.0.1:7545\""
   ]
  },
  {
   "cell_type": "code",
   "execution_count": 3,
   "id": "human-award",
   "metadata": {},
   "outputs": [
    {
     "name": "stdout",
     "output_type": "stream",
     "text": [
      "Connected?: True\n",
      "['0x4cbc87586da52F809D98F122331C06Ba16D6cC3A', '0xA4a4a85a3aA829384e2de7aD2B16B06EBA07A2bA', '0x58325180563bC75A12543FD380dE90048b89700c', '0xB1ec37fA914Fcf087BC1FB394F53292f337150Be', '0x2ad1fD7BD41DBA854523ecf0E3fbef6E7fC91af1', '0x7107246e4d83cF65F0Fbc56584b274B68745f40d', '0xb40518c06eF3dad45D3F35D3e839cF9b4A230f97', '0x464244D4cfDcE7aB54694dbBcd6C3E1ddCAb8c0a', '0x9108B087b51E0fE9Fa9D37eb794386A98050Bf48', '0x426658F34b041dA97E78ae4972Af6f472b1363e4']\n"
     ]
    }
   ],
   "source": [
    "def connect(URL):\n",
    "    web3=Web3(Web3.HTTPProvider(URL))\n",
    "    print(\"Connected?:\",web3.isConnected())\n",
    "    return web3\n",
    "\n",
    "def get_user_accounts():\n",
    "    return web3.eth.accounts\n",
    "\n",
    "def create_default_account(account_hash):\n",
    "    web3.eth.default_account=account_hash\n",
    "    \n",
    "def compile_solidity(file):\n",
    "    with open(file,'r') as f:\n",
    "        source=f.read()\n",
    "    return compile_source(source)\n",
    "\n",
    "def get_abi_bytecode(compiled_sol):\n",
    "    contract_id,contract_abi=compiled_sol.popitem()\n",
    "    abi=contract_abi['abi']\n",
    "    byte_code=contract_abi['bin']\n",
    "    return abi,byte_code\n",
    "\n",
    "def deploy_contract(abi,byte_code):\n",
    "    contract=web3.eth.contract(abi=abi,bytecode=byte_code)\n",
    "    tx_hash=contract.constructor().transact()\n",
    "    tx_receipt=web3.eth.waitForTransactionReceipt(tx_hash)\n",
    "    return tx_receipt\n",
    "\n",
    "web3=connect(URL)\n",
    "print(get_user_accounts())"
   ]
  },
  {
   "cell_type": "code",
   "execution_count": 4,
   "id": "handed-louisiana",
   "metadata": {},
   "outputs": [],
   "source": [
    "create_default_account('0x4cbc87586da52F809D98F122331C06Ba16D6cC3A')"
   ]
  },
  {
   "cell_type": "code",
   "execution_count": 5,
   "id": "growing-wayne",
   "metadata": {
    "scrolled": false
   },
   "outputs": [],
   "source": [
    "compiled_sol=compile_solidity('contract.sol')"
   ]
  },
  {
   "cell_type": "code",
   "execution_count": 6,
   "id": "exempt-gallery",
   "metadata": {},
   "outputs": [],
   "source": [
    "abi,byte_code=get_abi_bytecode(compiled_sol)"
   ]
  },
  {
   "cell_type": "code",
   "execution_count": 7,
   "id": "everyday-johnson",
   "metadata": {},
   "outputs": [
    {
     "data": {
      "text/plain": [
       "[{'inputs': [], 'stateMutability': 'nonpayable', 'type': 'constructor'},\n",
       " {'inputs': [],\n",
       "  'name': 'getUser',\n",
       "  'outputs': [{'internalType': 'uint256', 'name': '', 'type': 'uint256'},\n",
       "   {'internalType': 'uint256', 'name': '', 'type': 'uint256'},\n",
       "   {'internalType': 'address', 'name': '', 'type': 'address'},\n",
       "   {'internalType': 'address', 'name': '', 'type': 'address'}],\n",
       "  'stateMutability': 'nonpayable',\n",
       "  'type': 'function'},\n",
       " {'inputs': [{'internalType': 'uint256',\n",
       "    'name': 'invoiceAmount',\n",
       "    'type': 'uint256'},\n",
       "   {'internalType': 'address', 'name': 'to', 'type': 'address'}],\n",
       "  'name': 'payAmount',\n",
       "  'outputs': [],\n",
       "  'stateMutability': 'nonpayable',\n",
       "  'type': 'function'}]"
      ]
     },
     "execution_count": 7,
     "metadata": {},
     "output_type": "execute_result"
    }
   ],
   "source": [
    "abi"
   ]
  },
  {
   "cell_type": "code",
   "execution_count": 8,
   "id": "formed-enlargement",
   "metadata": {},
   "outputs": [
    {
     "data": {
      "text/plain": [
       "'608060405234801561001057600080fd5b50336000806101000a81548173ffffffffffffffffffffffffffffffffffffffff021916908373ffffffffffffffffffffffffffffffffffffffff16021790555061035c806100606000396000f3fe608060405234801561001057600080fd5b50600436106100365760003560e01c8063832880e71461003b57806396bc67851461005c575b600080fd5b610043610078565b6040516100539493929190610277565b60405180910390f35b6100766004803603810190610071919061021d565b6100e3565b005b6000806000806001600001546001800154600160020160009054906101000a900473ffffffffffffffffffffffffffffffffffffffff16600160030160009054906101000a900473ffffffffffffffffffffffffffffffffffffffff16935093509350935090919293565b600042905060008390506000839050600033905060405180608001604052808581526020018481526020018273ffffffffffffffffffffffffffffffffffffffff1681526020018373ffffffffffffffffffffffffffffffffffffffff168152506001600082015181600001556020820151816001015560408201518160020160006101000a81548173ffffffffffffffffffffffffffffffffffffffff021916908373ffffffffffffffffffffffffffffffffffffffff16021790555060608201518160030160006101000a81548173ffffffffffffffffffffffffffffffffffffffff021916908373ffffffffffffffffffffffffffffffffffffffff160217905550905050505050505050565b600081359050610202816102f8565b92915050565b6000813590506102178161030f565b92915050565b6000806040838503121561023057600080fd5b600061023e85828601610208565b925050602061024f858286016101f3565b9150509250929050565b610262816102bc565b82525050565b610271816102ee565b82525050565b600060808201905061028c6000830187610268565b6102996020830186610268565b6102a66040830185610259565b6102b36060830184610259565b95945050505050565b60006102c7826102ce565b9050919050565b600073ffffffffffffffffffffffffffffffffffffffff82169050919050565b6000819050919050565b610301816102bc565b811461030c57600080fd5b50565b610318816102ee565b811461032357600080fd5b5056fea2646970667358221220a4cf9bd3c3492158ddfec58608d8dbf55daf2b04993bcfc5cc2c8103e03aafb664736f6c63430008020033'"
      ]
     },
     "execution_count": 8,
     "metadata": {},
     "output_type": "execute_result"
    }
   ],
   "source": [
    "byte_code"
   ]
  },
  {
   "cell_type": "code",
   "execution_count": 9,
   "id": "republican-juice",
   "metadata": {},
   "outputs": [],
   "source": [
    "receipt=deploy_contract(abi=abi,byte_code=byte_code)"
   ]
  },
  {
   "cell_type": "code",
   "execution_count": 10,
   "id": "appointed-capture",
   "metadata": {},
   "outputs": [
    {
     "data": {
      "text/plain": [
       "AttributeDict({'transactionHash': HexBytes('0xbd9bd85179fd4816f7dd9205fb57dc784ce9dae57e05f442a41c4638fb25b469'),\n",
       " 'transactionIndex': 0,\n",
       " 'blockHash': HexBytes('0xc591a991c296ff459074777308ce6ee7a0b0b24ccf26f9795b1ec592e0ed85c5'),\n",
       " 'blockNumber': 44,\n",
       " 'from': '0x4cbc87586da52F809D98F122331C06Ba16D6cC3A',\n",
       " 'to': None,\n",
       " 'gasUsed': 260752,\n",
       " 'cumulativeGasUsed': 260752,\n",
       " 'contractAddress': '0x89a5Eead731DE8756D26037993728656C5B9bCb2',\n",
       " 'logs': [],\n",
       " 'status': 1,\n",
       " 'logsBloom': HexBytes('0x00000000000000000000000000000000000000000000000000000000000000000000000000000000000000000000000000000000000000000000000000000000000000000000000000000000000000000000000000000000000000000000000000000000000000000000000000000000000000000000000000000000000000000000000000000000000000000000000000000000000000000000000000000000000000000000000000000000000000000000000000000000000000000000000000000000000000000000000000000000000000000000000000000000000000000000000000000000000000000000000000000000000000000000000000000000')})"
      ]
     },
     "execution_count": 10,
     "metadata": {},
     "output_type": "execute_result"
    }
   ],
   "source": [
    "receipt"
   ]
  },
  {
   "cell_type": "code",
   "execution_count": 11,
   "id": "dimensional-married",
   "metadata": {},
   "outputs": [],
   "source": [
    "contract=web3.eth.contract(address=receipt['contractAddress'],abi=abi)"
   ]
  },
  {
   "cell_type": "code",
   "execution_count": null,
   "id": "failing-federal",
   "metadata": {},
   "outputs": [],
   "source": []
  },
  {
   "cell_type": "code",
   "execution_count": 12,
   "id": "happy-administrator",
   "metadata": {},
   "outputs": [
    {
     "data": {
      "text/plain": [
       "HexBytes('0x87d88dffccdb25419562b76cf730289e0b4031e840214af518a8345e42f3791b')"
      ]
     },
     "execution_count": 12,
     "metadata": {},
     "output_type": "execute_result"
    }
   ],
   "source": [
    "contract.functions.payAmount(100,\"0x58325180563bC75A12543FD380dE90048b89700c\").transact()"
   ]
  },
  {
   "cell_type": "code",
   "execution_count": 13,
   "id": "silver-pound",
   "metadata": {},
   "outputs": [
    {
     "data": {
      "text/plain": [
       "[1617803078,\n",
       " 100,\n",
       " '0x4cbc87586da52F809D98F122331C06Ba16D6cC3A',\n",
       " '0x58325180563bC75A12543FD380dE90048b89700c']"
      ]
     },
     "execution_count": 13,
     "metadata": {},
     "output_type": "execute_result"
    }
   ],
   "source": [
    "data=contract.functions.getUser().call()\n",
    "data"
   ]
  },
  {
   "cell_type": "code",
   "execution_count": 14,
   "id": "coated-queen",
   "metadata": {},
   "outputs": [
    {
     "data": {
      "text/plain": [
       "Timestamp('2021-04-07 19:29:38')"
      ]
     },
     "execution_count": 14,
     "metadata": {},
     "output_type": "execute_result"
    }
   ],
   "source": [
    "datetime_date=datetime.fromtimestamp(data[0])\n",
    "pd.to_datetime(datetime_date)"
   ]
  },
  {
   "cell_type": "code",
   "execution_count": null,
   "id": "lovely-substitute",
   "metadata": {},
   "outputs": [],
   "source": [
    "\n"
   ]
  },
  {
   "cell_type": "code",
   "execution_count": null,
   "id": "dense-ability",
   "metadata": {},
   "outputs": [],
   "source": []
  },
  {
   "cell_type": "code",
   "execution_count": null,
   "id": "stock-luxembourg",
   "metadata": {},
   "outputs": [],
   "source": []
  },
  {
   "cell_type": "code",
   "execution_count": null,
   "id": "better-lighter",
   "metadata": {},
   "outputs": [],
   "source": []
  },
  {
   "cell_type": "code",
   "execution_count": null,
   "id": "armed-glory",
   "metadata": {},
   "outputs": [],
   "source": []
  },
  {
   "cell_type": "code",
   "execution_count": null,
   "id": "structured-county",
   "metadata": {},
   "outputs": [],
   "source": []
  },
  {
   "cell_type": "code",
   "execution_count": null,
   "id": "worse-gossip",
   "metadata": {},
   "outputs": [],
   "source": []
  },
  {
   "cell_type": "code",
   "execution_count": null,
   "id": "large-debut",
   "metadata": {},
   "outputs": [],
   "source": []
  },
  {
   "cell_type": "code",
   "execution_count": null,
   "id": "wicked-keeping",
   "metadata": {},
   "outputs": [],
   "source": []
  },
  {
   "cell_type": "code",
   "execution_count": null,
   "id": "alleged-culture",
   "metadata": {},
   "outputs": [],
   "source": []
  },
  {
   "cell_type": "code",
   "execution_count": null,
   "id": "honest-editing",
   "metadata": {},
   "outputs": [],
   "source": []
  },
  {
   "cell_type": "code",
   "execution_count": null,
   "id": "absolute-province",
   "metadata": {},
   "outputs": [],
   "source": []
  },
  {
   "cell_type": "code",
   "execution_count": null,
   "id": "mental-kingston",
   "metadata": {},
   "outputs": [],
   "source": []
  },
  {
   "cell_type": "code",
   "execution_count": null,
   "id": "wrapped-fitness",
   "metadata": {},
   "outputs": [],
   "source": []
  },
  {
   "cell_type": "code",
   "execution_count": null,
   "id": "loose-giving",
   "metadata": {},
   "outputs": [],
   "source": []
  },
  {
   "cell_type": "code",
   "execution_count": null,
   "id": "leading-atmosphere",
   "metadata": {},
   "outputs": [],
   "source": []
  },
  {
   "cell_type": "code",
   "execution_count": null,
   "id": "manufactured-parliament",
   "metadata": {},
   "outputs": [],
   "source": []
  },
  {
   "cell_type": "code",
   "execution_count": null,
   "id": "filled-repeat",
   "metadata": {},
   "outputs": [],
   "source": []
  },
  {
   "cell_type": "code",
   "execution_count": null,
   "id": "promotional-vehicle",
   "metadata": {},
   "outputs": [],
   "source": []
  },
  {
   "cell_type": "code",
   "execution_count": null,
   "id": "alive-sweet",
   "metadata": {},
   "outputs": [],
   "source": []
  },
  {
   "cell_type": "code",
   "execution_count": null,
   "id": "fluid-lease",
   "metadata": {},
   "outputs": [],
   "source": []
  },
  {
   "cell_type": "code",
   "execution_count": null,
   "id": "dressed-livestock",
   "metadata": {},
   "outputs": [],
   "source": []
  },
  {
   "cell_type": "code",
   "execution_count": null,
   "id": "smart-mainstream",
   "metadata": {},
   "outputs": [],
   "source": []
  },
  {
   "cell_type": "code",
   "execution_count": null,
   "id": "frequent-arctic",
   "metadata": {},
   "outputs": [],
   "source": []
  },
  {
   "cell_type": "code",
   "execution_count": null,
   "id": "confidential-jefferson",
   "metadata": {},
   "outputs": [],
   "source": []
  },
  {
   "cell_type": "code",
   "execution_count": null,
   "id": "liberal-acquisition",
   "metadata": {},
   "outputs": [],
   "source": []
  },
  {
   "cell_type": "code",
   "execution_count": null,
   "id": "temporal-match",
   "metadata": {},
   "outputs": [],
   "source": []
  },
  {
   "cell_type": "code",
   "execution_count": null,
   "id": "athletic-ground",
   "metadata": {},
   "outputs": [],
   "source": []
  },
  {
   "cell_type": "code",
   "execution_count": null,
   "id": "black-quality",
   "metadata": {},
   "outputs": [],
   "source": []
  }
 ],
 "metadata": {
  "kernelspec": {
   "display_name": "Python 3",
   "language": "python",
   "name": "python3"
  },
  "language_info": {
   "codemirror_mode": {
    "name": "ipython",
    "version": 3
   },
   "file_extension": ".py",
   "mimetype": "text/x-python",
   "name": "python",
   "nbconvert_exporter": "python",
   "pygments_lexer": "ipython3",
   "version": "3.8.5"
  }
 },
 "nbformat": 4,
 "nbformat_minor": 5
}
