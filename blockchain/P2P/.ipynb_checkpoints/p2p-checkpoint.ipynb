{
 "cells": [
  {
   "cell_type": "code",
   "execution_count": 1,
   "id": "sexual-christopher",
   "metadata": {},
   "outputs": [],
   "source": [
    "from web3 import Web3\n",
    "from solcx import compile_source"
   ]
  },
  {
   "cell_type": "code",
   "execution_count": 2,
   "id": "supposed-publicity",
   "metadata": {},
   "outputs": [],
   "source": [
    "URL=\"HTTP://127.0.0.1:7545\""
   ]
  },
  {
   "cell_type": "code",
   "execution_count": 9,
   "id": "human-award",
   "metadata": {},
   "outputs": [
    {
     "name": "stdout",
     "output_type": "stream",
     "text": [
      "Connected?: True\n",
      "['0x4cbc87586da52F809D98F122331C06Ba16D6cC3A', '0xA4a4a85a3aA829384e2de7aD2B16B06EBA07A2bA', '0x58325180563bC75A12543FD380dE90048b89700c', '0xB1ec37fA914Fcf087BC1FB394F53292f337150Be', '0x2ad1fD7BD41DBA854523ecf0E3fbef6E7fC91af1', '0x7107246e4d83cF65F0Fbc56584b274B68745f40d', '0xb40518c06eF3dad45D3F35D3e839cF9b4A230f97', '0x464244D4cfDcE7aB54694dbBcd6C3E1ddCAb8c0a', '0x9108B087b51E0fE9Fa9D37eb794386A98050Bf48', '0x426658F34b041dA97E78ae4972Af6f472b1363e4']\n"
     ]
    }
   ],
   "source": [
    "def connect(URL):\n",
    "    web3=Web3(Web3.HTTPProvider(URL))\n",
    "    print(\"Connected?:\",web3.isConnected())\n",
    "    return web3\n",
    "\n",
    "def get_user_accounts():\n",
    "    return web3.eth.accounts\n",
    "\n",
    "def create_default_account(account_hash):\n",
    "    web3.eth.default_account=account_hash\n",
    "    \n",
    "def compile_solidity(file):\n",
    "    with open(file,'r') as f:\n",
    "        source=f.read()\n",
    "    return compile_source(source)\n",
    "\n",
    "def get_abi_bytecode(compiled_sol):\n",
    "    contract_id,contract_abi=compiled_sol.popitem()\n",
    "    abi=contract_abi['abi']\n",
    "    byte_code=contract_abi['bin']\n",
    "    return abi,byte_code\n",
    "\n",
    "def deploy_contract(abi,byte_code):\n",
    "    contract=web3.eth.contract(abi=abib,bytecode=byte_code)\n",
    "    tx_hash=contract.constructor().transact()\n",
    "    tx_receipt=web3.eth.waitForTransactionReceipt(tx_hash)\n",
    "    return tx_receipt\n",
    "\n",
    "web3=connect(URL)\n",
    "print(get_user_accounts())"
   ]
  },
  {
   "cell_type": "code",
   "execution_count": 10,
   "id": "handed-louisiana",
   "metadata": {},
   "outputs": [],
   "source": [
    "create_default_account('0x4cbc87586da52F809D98F122331C06Ba16D6cC3A')"
   ]
  },
  {
   "cell_type": "code",
   "execution_count": 11,
   "id": "adjusted-diary",
   "metadata": {},
   "outputs": [],
   "source": [
    "compiled_sol=compile_solidity('contract.sol')"
   ]
  },
  {
   "cell_type": "code",
   "execution_count": 12,
   "id": "exempt-gallery",
   "metadata": {},
   "outputs": [],
   "source": [
    "abi,byte_code=get_abi_bytecode(compiled_sol)"
   ]
  },
  {
   "cell_type": "code",
   "execution_count": 13,
   "id": "everyday-johnson",
   "metadata": {},
   "outputs": [
    {
     "data": {
      "text/plain": [
       "[{'inputs': [{'internalType': 'uint256',\n",
       "    'name': '_invoiceAmount',\n",
       "    'type': 'uint256'}],\n",
       "  'stateMutability': 'nonpayable',\n",
       "  'type': 'constructor'},\n",
       " {'inputs': [],\n",
       "  'name': 'dueDate',\n",
       "  'outputs': [{'internalType': 'uint256', 'name': '', 'type': 'uint256'}],\n",
       "  'stateMutability': 'view',\n",
       "  'type': 'function'},\n",
       " {'inputs': [],\n",
       "  'name': 'invoiceAmount',\n",
       "  'outputs': [{'internalType': 'uint256', 'name': '', 'type': 'uint256'}],\n",
       "  'stateMutability': 'view',\n",
       "  'type': 'function'}]"
      ]
     },
     "execution_count": 13,
     "metadata": {},
     "output_type": "execute_result"
    }
   ],
   "source": [
    "abi"
   ]
  },
  {
   "cell_type": "code",
   "execution_count": 14,
   "id": "formed-enlargement",
   "metadata": {},
   "outputs": [
    {
     "data": {
      "text/plain": [
       "'608060405234801561001057600080fd5b50604051610262380380610262833981810160405281019061003291906100a8565b60c84261003f91906100d1565b6000819055508060018190555033600260006101000a81548173ffffffffffffffffffffffffffffffffffffffff021916908373ffffffffffffffffffffffffffffffffffffffff16021790555050610177565b6000815190506100a281610160565b92915050565b6000602082840312156100ba57600080fd5b60006100c884828501610093565b91505092915050565b60006100dc82610127565b91506100e783610127565b9250827fffffffffffffffffffffffffffffffffffffffffffffffffffffffffffffffff0382111561011c5761011b610131565b5b828201905092915050565b6000819050919050565b7f4e487b7100000000000000000000000000000000000000000000000000000000600052601160045260246000fd5b61016981610127565b811461017457600080fd5b50565b60dd806101856000396000f3fe6080604052348015600f57600080fd5b506004361060325760003560e01c80637478901d146037578063786716fe146051575b600080fd5b603d606b565b604051604891906084565b60405180910390f35b60576071565b604051606291906084565b60405180910390f35b60015481565b60005481565b607e81609d565b82525050565b6000602082019050609760008301846077565b92915050565b600081905091905056fea2646970667358221220ad596a294770c5f39743e1049c1eeb75df9b07f836f3562058ccbd37b8b3bc7f64736f6c63430008020033'"
      ]
     },
     "execution_count": 14,
     "metadata": {},
     "output_type": "execute_result"
    }
   ],
   "source": [
    "byte_code"
   ]
  },
  {
   "cell_type": "code",
   "execution_count": null,
   "id": "republican-juice",
   "metadata": {},
   "outputs": [],
   "source": []
  },
  {
   "cell_type": "code",
   "execution_count": null,
   "id": "dimensional-married",
   "metadata": {},
   "outputs": [],
   "source": []
  },
  {
   "cell_type": "code",
   "execution_count": null,
   "id": "happy-administrator",
   "metadata": {},
   "outputs": [],
   "source": []
  },
  {
   "cell_type": "code",
   "execution_count": null,
   "id": "silver-pound",
   "metadata": {},
   "outputs": [],
   "source": []
  },
  {
   "cell_type": "code",
   "execution_count": null,
   "id": "coated-queen",
   "metadata": {},
   "outputs": [],
   "source": []
  }
 ],
 "metadata": {
  "kernelspec": {
   "display_name": "Python 3",
   "language": "python",
   "name": "python3"
  },
  "language_info": {
   "codemirror_mode": {
    "name": "ipython",
    "version": 3
   },
   "file_extension": ".py",
   "mimetype": "text/x-python",
   "name": "python",
   "nbconvert_exporter": "python",
   "pygments_lexer": "ipython3",
   "version": "3.8.5"
  }
 },
 "nbformat": 4,
 "nbformat_minor": 5
}
