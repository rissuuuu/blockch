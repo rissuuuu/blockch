{
 "cells": [
  {
   "cell_type": "code",
   "execution_count": 1,
   "id": "opening-batch",
   "metadata": {},
   "outputs": [],
   "source": [
    "import json\n",
    "from web3 import Web3"
   ]
  },
  {
   "cell_type": "code",
   "execution_count": 2,
   "id": "limiting-belle",
   "metadata": {},
   "outputs": [
    {
     "data": {
      "text/plain": [
       "True"
      ]
     },
     "execution_count": 2,
     "metadata": {},
     "output_type": "execute_result"
    }
   ],
   "source": [
    "url=\"https://rinkeby.infura.io/v3/797f0db7164f4709ab71797981eb76e5\"\n",
    "web3=Web3(Web3.HTTPProvider(url))\n",
    "web3.isConnected()"
   ]
  },
  {
   "cell_type": "code",
   "execution_count": 3,
   "id": "practical-biography",
   "metadata": {},
   "outputs": [],
   "source": [
    "account_from=\"0x98aaFC122f94f2f7d808d81dC943B18b55EEC5a2\"\n",
    "account_to=\"0xE1096C6db7E8E8F0fDc94B2BD0f593dBB84D020A\""
   ]
  },
  {
   "cell_type": "code",
   "execution_count": 31,
   "id": "generic-sheriff",
   "metadata": {},
   "outputs": [],
   "source": [
    "# private_key=\"d5221ee3b3f0595a6eda712d5cbed1181a73d550474b2c9240cb19cab35e6634\"\n",
    "\n",
    "private_key=\"1a7f9e901e9a8feaa665d7bcdbac9788b5ee8f84c4b94866dc74959647c3d108\"\n"
   ]
  },
  {
   "cell_type": "code",
   "execution_count": 34,
   "id": "mounted-julian",
   "metadata": {},
   "outputs": [],
   "source": [
    "abi=('[{\"inputs\": [],\"name\": \"incrementCount\",\"outputs\": [],\"stateMutability\": \"nonpayable\",\"type\": \"function\"},{\"anonymous\": false,\"inputs\": [{\"indexed\": false,\"internalType\": \"address\",\"name\": \"\",\"type\": \"address\"}],\"name\": \"senderlogger\",\"type\": \"event\"},{\"inputs\": [],\"name\": \"count\",\"outputs\": [{\"internalType\": \"uint256\",\"name\": \"\",\"type\": \"uint256\"}],\"stateMutability\": \"view\",\"type\": \"function\"},{\"inputs\": [],\"name\": \"getCount\",\"outputs\": [{\"internalType\": \"uint256\",\"name\": \"\",\"type\": \"uint256\"}],\"stateMutability\": \"view\",\"type\": \"function\"},{\"inputs\": [],\"name\": \"sender\",\"outputs\": [{\"internalType\": \"address\",\"name\": \"\",\"type\": \"address\"}],\"stateMutability\": \"view\",\"type\": \"function\"}]')"
   ]
  },
  {
   "cell_type": "code",
   "execution_count": 33,
   "id": "peripheral-aquarium",
   "metadata": {},
   "outputs": [],
   "source": [
    "abi=([{\"inputs\": [],\"stateMutability\": \"nonpayable\",\"type\": \"constructor\"},{\"anonymous\": False,\"inputs\": [{\"indexed\": False,\"internalType\": \"address\",\"name\": \"\",\"type\": \"address\"}],\"name\": \"senderlogger\",\"type\": \"event\"},{\"anonymous\": False,\"inputs\": [{\"indexed\": False,\"internalType\": \"uint256\",\"name\": \"\",\"type\": \"uint256\"}],\"name\": \"valurlogger\",\"type\": \"event\"},{\"inputs\": [],\"name\": \"count\",\"outputs\": [{\"internalType\": \"uint256\",\"name\": \"\",\"type\": \"uint256\"}],\"stateMutability\": \"view\",\"type\": \"function\"},{\"inputs\": [],\"name\": \"getCount\",\"outputs\": [{\"internalType\": \"uint256\",\"name\": \"\",\"type\": \"uint256\"}],\"stateMutability\": \"view\",\"type\": \"function\"},{\"inputs\": [],\"name\": \"incrementCount\",\"outputs\": [],\"stateMutability\": \"nonpayable\",\"type\": \"function\"},{\"inputs\": [],\"name\": \"sender\",\"outputs\": [{\"internalType\": \"address\",\"name\": \"\",\"type\": \"address\"}],\"stateMutability\": \"view\",\"type\": \"function\"}])"
   ]
  },
  {
   "cell_type": "code",
   "execution_count": 35,
   "id": "ceramic-therapist",
   "metadata": {},
   "outputs": [
    {
     "data": {
      "text/plain": [
       "'0xb198fa7a5df927a8dc36b255c70ad12d57e931df'"
      ]
     },
     "execution_count": 35,
     "metadata": {},
     "output_type": "execute_result"
    }
   ],
   "source": [
    "deployed_contract_address=\"0xb198fa7a5df927a8dc36b255c70ad12d57e931df\"\n",
    "deployed_contract_address"
   ]
  },
  {
   "cell_type": "code",
   "execution_count": 36,
   "id": "understanding-roberts",
   "metadata": {},
   "outputs": [
    {
     "data": {
      "text/plain": [
       "'0xB198fa7a5DF927A8dc36b255c70AD12D57e931Df'"
      ]
     },
     "execution_count": 36,
     "metadata": {},
     "output_type": "execute_result"
    }
   ],
   "source": [
    "deployed_contract_address=Web3.toChecksumAddress(deployed_contract_address)\n",
    "deployed_contract_address"
   ]
  },
  {
   "cell_type": "code",
   "execution_count": 37,
   "id": "union-acting",
   "metadata": {},
   "outputs": [],
   "source": [
    "contract = web3.eth.contract(address=deployed_contract_address, abi=abi)"
   ]
  },
  {
   "cell_type": "code",
   "execution_count": 51,
   "id": "silent-tulsa",
   "metadata": {},
   "outputs": [
    {
     "data": {
      "text/plain": [
       "0"
      ]
     },
     "execution_count": 51,
     "metadata": {},
     "output_type": "execute_result"
    }
   ],
   "source": [
    "contract.functions.getCount().call()"
   ]
  },
  {
   "cell_type": "code",
   "execution_count": 39,
   "id": "native-birmingham",
   "metadata": {},
   "outputs": [
    {
     "data": {
      "text/plain": [
       "[]"
      ]
     },
     "execution_count": 39,
     "metadata": {},
     "output_type": "execute_result"
    }
   ],
   "source": [
    "contract.functions.incrementCount().call()"
   ]
  },
  {
   "cell_type": "code",
   "execution_count": 41,
   "id": "surface-liability",
   "metadata": {},
   "outputs": [
    {
     "data": {
      "text/plain": [
       "'0x0000000000000000000000000000000000000000'"
      ]
     },
     "execution_count": 41,
     "metadata": {},
     "output_type": "execute_result"
    }
   ],
   "source": [
    "contract.functions.sender().call()"
   ]
  },
  {
   "cell_type": "code",
   "execution_count": 42,
   "id": "ordered-classification",
   "metadata": {},
   "outputs": [],
   "source": [
    "transaction = {\n",
    "        'value': web3.toWei(1,'ether'),\n",
    "        'gas': 110000,\n",
    "        'gasPrice': web3.toWei('1','gwei'),  # W3.eth.gasPrice,\n",
    "        'nonce': 8\n",
    "    }"
   ]
  },
  {
   "cell_type": "code",
   "execution_count": 43,
   "id": "refined-accommodation",
   "metadata": {},
   "outputs": [],
   "source": [
    "tx = contract.functions.incrementCount().buildTransaction(transaction)"
   ]
  },
  {
   "cell_type": "code",
   "execution_count": 44,
   "id": "nuclear-camera",
   "metadata": {},
   "outputs": [],
   "source": [
    "signed_tx = web3.eth.account.signTransaction(tx, private_key=private_key)"
   ]
  },
  {
   "cell_type": "code",
   "execution_count": 45,
   "id": "martial-glossary",
   "metadata": {},
   "outputs": [
    {
     "data": {
      "text/plain": [
       "HexBytes('0x4051de16c78a5fffdf005027a2fe17e44a5acc86f5081ef65a95b5917e461ed5')"
      ]
     },
     "execution_count": 45,
     "metadata": {},
     "output_type": "execute_result"
    }
   ],
   "source": [
    "tx_hex=web3.eth.sendRawTransaction(signed_tx.rawTransaction)\n",
    "tx_hex"
   ]
  },
  {
   "cell_type": "code",
   "execution_count": 47,
   "id": "religious-berkeley",
   "metadata": {},
   "outputs": [
    {
     "data": {
      "text/plain": [
       "AttributeDict({'blockHash': HexBytes('0x4f4c7c203d1db92d49ca9e1bbf8f8d9d434c355da446ec2b84ce27033fd6bf02'),\n",
       " 'blockNumber': 8278600,\n",
       " 'from': '0xE1096C6db7E8E8F0fDc94B2BD0f593dBB84D020A',\n",
       " 'gas': 110000,\n",
       " 'gasPrice': 1000000000,\n",
       " 'hash': HexBytes('0x4051de16c78a5fffdf005027a2fe17e44a5acc86f5081ef65a95b5917e461ed5'),\n",
       " 'input': '0xe5071b8e',\n",
       " 'nonce': 8,\n",
       " 'r': HexBytes('0x5b2be086829fdabf16231de69b3716c7a4ee035a7082b036f804bfb1158c0184'),\n",
       " 's': HexBytes('0x7496c454eaef101324efd83583d7349a6966889ceb284b8cf12a2e849a937698'),\n",
       " 'to': '0xB198fa7a5DF927A8dc36b255c70AD12D57e931Df',\n",
       " 'transactionIndex': 2,\n",
       " 'type': '0x0',\n",
       " 'v': 43,\n",
       " 'value': 1000000000000000000})"
      ]
     },
     "execution_count": 47,
     "metadata": {},
     "output_type": "execute_result"
    }
   ],
   "source": [
    "web3.eth.getTransaction(tx_hex)"
   ]
  },
  {
   "cell_type": "code",
   "execution_count": null,
   "id": "prepared-musician",
   "metadata": {},
   "outputs": [],
   "source": []
  },
  {
   "cell_type": "code",
   "execution_count": null,
   "id": "failing-makeup",
   "metadata": {},
   "outputs": [],
   "source": []
  },
  {
   "cell_type": "code",
   "execution_count": null,
   "id": "united-lottery",
   "metadata": {},
   "outputs": [],
   "source": []
  },
  {
   "cell_type": "code",
   "execution_count": null,
   "id": "false-edgar",
   "metadata": {},
   "outputs": [],
   "source": []
  },
  {
   "cell_type": "code",
   "execution_count": null,
   "id": "nominated-ethiopia",
   "metadata": {},
   "outputs": [],
   "source": []
  },
  {
   "cell_type": "code",
   "execution_count": null,
   "id": "otherwise-affect",
   "metadata": {},
   "outputs": [],
   "source": []
  },
  {
   "cell_type": "code",
   "execution_count": null,
   "id": "czech-marathon",
   "metadata": {},
   "outputs": [],
   "source": []
  },
  {
   "cell_type": "code",
   "execution_count": null,
   "id": "blind-snapshot",
   "metadata": {},
   "outputs": [],
   "source": []
  },
  {
   "cell_type": "code",
   "execution_count": null,
   "id": "caring-enough",
   "metadata": {},
   "outputs": [],
   "source": []
  },
  {
   "cell_type": "code",
   "execution_count": null,
   "id": "broke-theater",
   "metadata": {},
   "outputs": [],
   "source": []
  },
  {
   "cell_type": "code",
   "execution_count": null,
   "id": "wired-relay",
   "metadata": {},
   "outputs": [],
   "source": []
  },
  {
   "cell_type": "code",
   "execution_count": null,
   "id": "another-darkness",
   "metadata": {},
   "outputs": [],
   "source": []
  }
 ],
 "metadata": {
  "kernelspec": {
   "display_name": "Python 3",
   "language": "python",
   "name": "python3"
  },
  "language_info": {
   "codemirror_mode": {
    "name": "ipython",
    "version": 3
   },
   "file_extension": ".py",
   "mimetype": "text/x-python",
   "name": "python",
   "nbconvert_exporter": "python",
   "pygments_lexer": "ipython3",
   "version": "3.8.5"
  }
 },
 "nbformat": 4,
 "nbformat_minor": 5
}
