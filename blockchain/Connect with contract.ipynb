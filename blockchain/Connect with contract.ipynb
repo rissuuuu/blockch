{
 "cells": [
  {
   "cell_type": "code",
   "execution_count": 100,
   "id": "opening-batch",
   "metadata": {},
   "outputs": [],
   "source": [
    "import json\n",
    "from web3 import Web3"
   ]
  },
  {
   "cell_type": "code",
   "execution_count": 101,
   "id": "limiting-belle",
   "metadata": {},
   "outputs": [
    {
     "data": {
      "text/plain": [
       "True"
      ]
     },
     "execution_count": 101,
     "metadata": {},
     "output_type": "execute_result"
    }
   ],
   "source": [
    "url=\"https://rinkeby.infura.io/v3/797f0db7164f4709ab71797981eb76e5\"\n",
    "web3=Web3(Web3.HTTPProvider(url))\n",
    "web3.isConnected()"
   ]
  },
  {
   "cell_type": "code",
   "execution_count": 102,
   "id": "practical-biography",
   "metadata": {},
   "outputs": [],
   "source": [
    "account_from=\"0x98aaFC122f94f2f7d808d81dC943B18b55EEC5a2\"\n",
    "account_to=\"0xE1096C6db7E8E8F0fDc94B2BD0f593dBB84D020A\""
   ]
  },
  {
   "cell_type": "code",
   "execution_count": 103,
   "id": "generic-sheriff",
   "metadata": {},
   "outputs": [],
   "source": [
    "# private_key=\"d5221ee3b3f0595a6eda712d5cbed1181a73d550474b2c9240cb19cab35e6634\"\n",
    "\n",
    "private_key=\"1a7f9e901e9a8feaa665d7bcdbac9788b5ee8f84c4b94866dc74959647c3d108\"\n"
   ]
  },
  {
   "cell_type": "code",
   "execution_count": 104,
   "id": "peripheral-aquarium",
   "metadata": {},
   "outputs": [],
   "source": [
    "abi=([{\"inputs\": [],\"stateMutability\": \"nonpayable\",\"type\": \"constructor\"},{\"anonymous\": False,\"inputs\": [{\"indexed\": False,\"internalType\": \"address\",\"name\": \"\",\"type\": \"address\"}],\"name\": \"senderlogger\",\"type\": \"event\"},{\"anonymous\": False,\"inputs\": [{\"indexed\": False,\"internalType\": \"uint256\",\"name\": \"\",\"type\": \"uint256\"}],\"name\": \"valurlogger\",\"type\": \"event\"},{\"inputs\": [],\"name\": \"count\",\"outputs\": [{\"internalType\": \"uint256\",\"name\": \"\",\"type\": \"uint256\"}],\"stateMutability\": \"view\",\"type\": \"function\"},{\"inputs\": [],\"name\": \"getCount\",\"outputs\": [{\"internalType\": \"uint256\",\"name\": \"\",\"type\": \"uint256\"}],\"stateMutability\": \"view\",\"type\": \"function\"},{\"inputs\": [],\"name\": \"incrementCount\",\"outputs\": [],\"stateMutability\": \"nonpayable\",\"type\": \"function\"},{\"inputs\": [],\"name\": \"sender\",\"outputs\": [{\"internalType\": \"address\",\"name\": \"\",\"type\": \"address\"}],\"stateMutability\": \"view\",\"type\": \"function\"}])"
   ]
  },
  {
   "cell_type": "code",
   "execution_count": 105,
   "id": "ceramic-therapist",
   "metadata": {},
   "outputs": [
    {
     "data": {
      "text/plain": [
       "'0x68ddbbcb9110766d497a073df150176d7fc54dc6'"
      ]
     },
     "execution_count": 105,
     "metadata": {},
     "output_type": "execute_result"
    }
   ],
   "source": [
    "deployed_contract_address=\"0x68ddbbcb9110766d497a073df150176d7fc54dc6\"\n",
    "deployed_contract_address"
   ]
  },
  {
   "cell_type": "code",
   "execution_count": 106,
   "id": "understanding-roberts",
   "metadata": {},
   "outputs": [
    {
     "data": {
      "text/plain": [
       "'0x68DDbbcB9110766D497A073df150176d7Fc54DC6'"
      ]
     },
     "execution_count": 106,
     "metadata": {},
     "output_type": "execute_result"
    }
   ],
   "source": [
    "deployed_contract_address=Web3.toChecksumAddress(deployed_contract_address)\n",
    "deployed_contract_address"
   ]
  },
  {
   "cell_type": "code",
   "execution_count": 122,
   "id": "union-acting",
   "metadata": {},
   "outputs": [],
   "source": [
    "contract = web3.eth.contract(address=deployed_contract_address, abi=abi)"
   ]
  },
  {
   "cell_type": "code",
   "execution_count": 123,
   "id": "silent-tulsa",
   "metadata": {},
   "outputs": [
    {
     "data": {
      "text/plain": [
       "0"
      ]
     },
     "execution_count": 123,
     "metadata": {},
     "output_type": "execute_result"
    }
   ],
   "source": [
    "contract.functions.getCount().call()"
   ]
  },
  {
   "cell_type": "code",
   "execution_count": 119,
   "id": "native-birmingham",
   "metadata": {},
   "outputs": [
    {
     "data": {
      "text/plain": [
       "[]"
      ]
     },
     "execution_count": 119,
     "metadata": {},
     "output_type": "execute_result"
    }
   ],
   "source": [
    "contract.functions.incrementCount().call()"
   ]
  },
  {
   "cell_type": "code",
   "execution_count": 110,
   "id": "surface-liability",
   "metadata": {},
   "outputs": [
    {
     "data": {
      "text/plain": [
       "'0x0000000000000000000000000000000000000000'"
      ]
     },
     "execution_count": 110,
     "metadata": {},
     "output_type": "execute_result"
    }
   ],
   "source": [
    "contract.functions.sender().call()"
   ]
  },
  {
   "cell_type": "code",
   "execution_count": 111,
   "id": "ordered-classification",
   "metadata": {},
   "outputs": [],
   "source": [
    "transaction = {\n",
    "        'value': web3.toWei(1,'ether'),\n",
    "        'gas': 110000,\n",
    "        'gasPrice': web3.toWei('1','gwei'),  # W3.eth.gasPrice,\n",
    "        'nonce': 6\n",
    "    }"
   ]
  },
  {
   "cell_type": "code",
   "execution_count": 112,
   "id": "refined-accommodation",
   "metadata": {},
   "outputs": [],
   "source": [
    "tx = contract.functions.incrementCount().buildTransaction(transaction)"
   ]
  },
  {
   "cell_type": "code",
   "execution_count": 113,
   "id": "nuclear-camera",
   "metadata": {},
   "outputs": [],
   "source": [
    "signed_tx = web3.eth.account.signTransaction(tx, private_key=private_key)"
   ]
  },
  {
   "cell_type": "code",
   "execution_count": 114,
   "id": "martial-glossary",
   "metadata": {},
   "outputs": [
    {
     "data": {
      "text/plain": [
       "HexBytes('0x11e23c28aa284cf20f483bf8b757c2567f7c82b6f04f0eeebf48098f442387b6')"
      ]
     },
     "execution_count": 114,
     "metadata": {},
     "output_type": "execute_result"
    }
   ],
   "source": [
    "tx_hex=web3.eth.sendRawTransaction(signed_tx.rawTransaction)\n",
    "tx_hex"
   ]
  },
  {
   "cell_type": "code",
   "execution_count": 115,
   "id": "religious-berkeley",
   "metadata": {},
   "outputs": [
    {
     "data": {
      "text/plain": [
       "AttributeDict({'blockHash': None,\n",
       " 'blockNumber': None,\n",
       " 'from': '0xE1096C6db7E8E8F0fDc94B2BD0f593dBB84D020A',\n",
       " 'gas': 110000,\n",
       " 'gasPrice': 1000000000,\n",
       " 'hash': HexBytes('0x11e23c28aa284cf20f483bf8b757c2567f7c82b6f04f0eeebf48098f442387b6'),\n",
       " 'input': '0xe5071b8e',\n",
       " 'nonce': 6,\n",
       " 'r': HexBytes('0xfc3f97cb2385033c8feb9999fce0483b06419baf8d7c062a187be8cc576a1978'),\n",
       " 's': HexBytes('0x617b830887a2bd97ab95d523fc4af9715ac4fddf062ce8bea38aa83ba07fc35f'),\n",
       " 'to': '0x68DDbbcB9110766D497A073df150176d7Fc54DC6',\n",
       " 'transactionIndex': None,\n",
       " 'type': '0x0',\n",
       " 'v': 44,\n",
       " 'value': 1000000000000000000})"
      ]
     },
     "execution_count": 115,
     "metadata": {},
     "output_type": "execute_result"
    }
   ],
   "source": [
    "web3.eth.getTransaction(tx_hex)"
   ]
  },
  {
   "cell_type": "code",
   "execution_count": null,
   "id": "prepared-musician",
   "metadata": {},
   "outputs": [],
   "source": []
  },
  {
   "cell_type": "code",
   "execution_count": null,
   "id": "failing-makeup",
   "metadata": {},
   "outputs": [],
   "source": []
  },
  {
   "cell_type": "code",
   "execution_count": null,
   "id": "united-lottery",
   "metadata": {},
   "outputs": [],
   "source": []
  },
  {
   "cell_type": "code",
   "execution_count": null,
   "id": "false-edgar",
   "metadata": {},
   "outputs": [],
   "source": []
  },
  {
   "cell_type": "code",
   "execution_count": null,
   "id": "nominated-ethiopia",
   "metadata": {},
   "outputs": [],
   "source": []
  },
  {
   "cell_type": "code",
   "execution_count": null,
   "id": "otherwise-affect",
   "metadata": {},
   "outputs": [],
   "source": []
  },
  {
   "cell_type": "code",
   "execution_count": null,
   "id": "czech-marathon",
   "metadata": {},
   "outputs": [],
   "source": []
  },
  {
   "cell_type": "code",
   "execution_count": null,
   "id": "blind-snapshot",
   "metadata": {},
   "outputs": [],
   "source": []
  },
  {
   "cell_type": "code",
   "execution_count": null,
   "id": "caring-enough",
   "metadata": {},
   "outputs": [],
   "source": []
  },
  {
   "cell_type": "code",
   "execution_count": null,
   "id": "broke-theater",
   "metadata": {},
   "outputs": [],
   "source": []
  },
  {
   "cell_type": "code",
   "execution_count": null,
   "id": "wired-relay",
   "metadata": {},
   "outputs": [],
   "source": []
  },
  {
   "cell_type": "code",
   "execution_count": null,
   "id": "another-darkness",
   "metadata": {},
   "outputs": [],
   "source": []
  }
 ],
 "metadata": {
  "kernelspec": {
   "display_name": "Python 3",
   "language": "python",
   "name": "python3"
  },
  "language_info": {
   "codemirror_mode": {
    "name": "ipython",
    "version": 3
   },
   "file_extension": ".py",
   "mimetype": "text/x-python",
   "name": "python",
   "nbconvert_exporter": "python",
   "pygments_lexer": "ipython3",
   "version": "3.8.5"
  }
 },
 "nbformat": 4,
 "nbformat_minor": 5
}
