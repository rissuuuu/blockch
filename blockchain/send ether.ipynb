{
 "cells": [
  {
   "cell_type": "code",
   "execution_count": 38,
   "id": "renewable-chicken",
   "metadata": {},
   "outputs": [],
   "source": [
    "from web3 import Web3\n",
    "import numpy as np"
   ]
  },
  {
   "cell_type": "code",
   "execution_count": 39,
   "id": "neither-climb",
   "metadata": {},
   "outputs": [
    {
     "data": {
      "text/plain": [
       "<web3.main.Web3 at 0x7fa3932025b0>"
      ]
     },
     "execution_count": 39,
     "metadata": {},
     "output_type": "execute_result"
    }
   ],
   "source": [
    "# url=\"https://ropsten.infura.io/v3/797f0db7164f4709ab71797981eb76e5\"\n",
    "# url=\"http://127.0.0.1:7545\"\n",
    "url=\"https://rinkeby.infura.io/v3/797f0db7164f4709ab71797981eb76e5\"\n",
    "web3=Web3(Web3.HTTPProvider(url))\n",
    "# web3=Web3.providers.HttpProvider(url)\n",
    "web3"
   ]
  },
  {
   "cell_type": "code",
   "execution_count": 40,
   "id": "falling-appreciation",
   "metadata": {},
   "outputs": [
    {
     "data": {
      "text/plain": [
       "True"
      ]
     },
     "execution_count": 40,
     "metadata": {},
     "output_type": "execute_result"
    }
   ],
   "source": [
    "web3.isConnected()"
   ]
  },
  {
   "cell_type": "code",
   "execution_count": 41,
   "id": "unusual-hampshire",
   "metadata": {},
   "outputs": [],
   "source": [
    "account_from=\"0x98aaFC122f94f2f7d808d81dC943B18b55EEC5a2\"\n",
    "account_to=\"0xE1096C6db7E8E8F0fDc94B2BD0f593dBB84D020A\"\n",
    "\n",
    "# account_from=\"0xf197a007f8739dAA325BF8c18Ee7ebA94365cD50\"\n",
    "# account_to=\"0xB16A23c270a21Ce5309306948E623e688E2001F3\""
   ]
  },
  {
   "cell_type": "code",
   "execution_count": 42,
   "id": "primary-screw",
   "metadata": {},
   "outputs": [],
   "source": [
    "# private_key=\"1a7f9e901e9a8feaa665d7bcdbac9788b5ee8f84c4b94866dc74959647c3d108\"\n",
    "# private_key=\"d5221ee3b3f0595a6eda712d5cbed1181a73d550474b2c9240cb19cab35e6634\"\n",
    "\n",
    "private_key=\"1a7f9e901e9a8feaa665d7bcdbac9788b5ee8f84c4b94866dc74959647c3d108\"\n"
   ]
  },
  {
   "cell_type": "code",
   "execution_count": 43,
   "id": "suspected-flower",
   "metadata": {},
   "outputs": [
    {
     "data": {
      "text/plain": [
       "22"
      ]
     },
     "execution_count": 43,
     "metadata": {},
     "output_type": "execute_result"
    }
   ],
   "source": [
    "nonce=np.random.randint(0,100)\n",
    "nonce"
   ]
  },
  {
   "cell_type": "code",
   "execution_count": 44,
   "id": "internal-affiliate",
   "metadata": {},
   "outputs": [],
   "source": [
    "tx={\n",
    "    'nonce':nonce,\n",
    "    'to':\"0x98aaFC122f94f2f7d808d81dC943B18b55EEC5a2\",\n",
    "    'value':web3.toWei(1,'ether'),\n",
    "    'gas':21000,\n",
    "    'gasPrice':web3.toWei('1','gwei')\n",
    "}"
   ]
  },
  {
   "cell_type": "code",
   "execution_count": 45,
   "id": "modified-companion",
   "metadata": {},
   "outputs": [],
   "source": [
    "transaction = {\n",
    "        'to':account_from,\n",
    "        'from': account_to,\n",
    "        'value': web3.toWei(1,'ether'),\n",
    "        'gas': 110000,\n",
    "        'gasPrice': web3.toWei('1','gwei'),  # W3.eth.gasPrice,\n",
    "        'nonce': 5\n",
    "    }"
   ]
  },
  {
   "cell_type": "code",
   "execution_count": 46,
   "id": "elder-istanbul",
   "metadata": {},
   "outputs": [],
   "source": [
    "signed_tx=web3.eth.account.signTransaction(transaction,private_key)"
   ]
  },
  {
   "cell_type": "code",
   "execution_count": 47,
   "id": "appreciated-broad",
   "metadata": {},
   "outputs": [],
   "source": [
    "tx_hash=web3.eth.sendRawTransaction(signed_tx.rawTransaction)"
   ]
  },
  {
   "cell_type": "code",
   "execution_count": 48,
   "id": "closed-trauma",
   "metadata": {},
   "outputs": [
    {
     "data": {
      "text/plain": [
       "HexBytes('0xf86c05843b9aca008301adb09498aafc122f94f2f7d808d81dc943b18b55eec5a2880de0b6b3a7640000801ca0795dd7ed572609043057d7e62b496e489daad3d4a7ee4b48a774f8c227f9ef27a04260515c3b1ec5620aaed0ea7adfffa4739f38253946d80c4822f68b499a4bf5')"
      ]
     },
     "execution_count": 48,
     "metadata": {},
     "output_type": "execute_result"
    }
   ],
   "source": [
    "signed_tx.rawTransaction"
   ]
  },
  {
   "cell_type": "code",
   "execution_count": 49,
   "id": "equipped-sunrise",
   "metadata": {},
   "outputs": [
    {
     "data": {
      "text/plain": [
       "'0xf86e820336843b9aca00831e84809498aafc122f94f2f7d808d81dc943b18b55eec5a2880de0b6b3a7640000801ca0269f1826df7cc12b493a0bfd3105c81c1ad311f93e8b7d699aa2fa585f522f9da02151a8564d11fd0230dc4955435ebec8524f23cdeacbf47de85bf6fe20bfb506'"
      ]
     },
     "execution_count": 49,
     "metadata": {},
     "output_type": "execute_result"
    }
   ],
   "source": [
    "'0xf86e820336843b9aca00831e84809498aafc122f94f2f7d808d81dc943b18b55eec5a2880de0b6b3a7640000801ca0269f1826df7cc12b493a0bfd3105c81c1ad311f93e8b7d699aa2fa585f522f9da02151a8564d11fd0230dc4955435ebec8524f23cdeacbf47de85bf6fe20bfb506'"
   ]
  },
  {
   "cell_type": "code",
   "execution_count": 50,
   "id": "recorded-swedish",
   "metadata": {},
   "outputs": [
    {
     "data": {
      "text/plain": [
       "AttributeDict({'blockHash': None,\n",
       " 'blockNumber': None,\n",
       " 'from': '0xE1096C6db7E8E8F0fDc94B2BD0f593dBB84D020A',\n",
       " 'gas': 110000,\n",
       " 'gasPrice': 1000000000,\n",
       " 'hash': HexBytes('0xa451764e28c181edad3ccf60b58dce015023f944cf23f5ff3d4e266a1d6444bd'),\n",
       " 'input': '0x',\n",
       " 'nonce': 5,\n",
       " 'r': HexBytes('0x795dd7ed572609043057d7e62b496e489daad3d4a7ee4b48a774f8c227f9ef27'),\n",
       " 's': HexBytes('0x4260515c3b1ec5620aaed0ea7adfffa4739f38253946d80c4822f68b499a4bf5'),\n",
       " 'to': '0x98aaFC122f94f2f7d808d81dC943B18b55EEC5a2',\n",
       " 'transactionIndex': None,\n",
       " 'type': '0x0',\n",
       " 'v': 28,\n",
       " 'value': 1000000000000000000})"
      ]
     },
     "execution_count": 50,
     "metadata": {},
     "output_type": "execute_result"
    }
   ],
   "source": [
    "web3.eth.getTransaction(tx_hash)"
   ]
  },
  {
   "cell_type": "code",
   "execution_count": 51,
   "id": "reliable-marking",
   "metadata": {
    "scrolled": false
   },
   "outputs": [
    {
     "data": {
      "text/plain": [
       "HexBytes('0xa451764e28c181edad3ccf60b58dce015023f944cf23f5ff3d4e266a1d6444bd')"
      ]
     },
     "execution_count": 51,
     "metadata": {},
     "output_type": "execute_result"
    }
   ],
   "source": [
    "tx_hash"
   ]
  },
  {
   "cell_type": "code",
   "execution_count": 52,
   "id": "facial-italian",
   "metadata": {},
   "outputs": [],
   "source": [
    "# vmware nonce 2\n",
    "# nonvmware nonce 4"
   ]
  },
  {
   "cell_type": "code",
   "execution_count": null,
   "id": "speaking-vienna",
   "metadata": {},
   "outputs": [],
   "source": []
  },
  {
   "cell_type": "code",
   "execution_count": null,
   "id": "agricultural-animal",
   "metadata": {},
   "outputs": [],
   "source": []
  },
  {
   "cell_type": "code",
   "execution_count": null,
   "id": "numeric-pricing",
   "metadata": {},
   "outputs": [],
   "source": []
  },
  {
   "cell_type": "code",
   "execution_count": null,
   "id": "quantitative-opinion",
   "metadata": {},
   "outputs": [],
   "source": []
  },
  {
   "cell_type": "code",
   "execution_count": null,
   "id": "billion-nepal",
   "metadata": {},
   "outputs": [],
   "source": []
  },
  {
   "cell_type": "code",
   "execution_count": null,
   "id": "south-madagascar",
   "metadata": {},
   "outputs": [],
   "source": []
  },
  {
   "cell_type": "code",
   "execution_count": null,
   "id": "otherwise-stock",
   "metadata": {},
   "outputs": [],
   "source": []
  },
  {
   "cell_type": "code",
   "execution_count": null,
   "id": "mysterious-litigation",
   "metadata": {},
   "outputs": [],
   "source": []
  },
  {
   "cell_type": "code",
   "execution_count": null,
   "id": "great-skating",
   "metadata": {},
   "outputs": [],
   "source": []
  },
  {
   "cell_type": "code",
   "execution_count": null,
   "id": "varied-minority",
   "metadata": {},
   "outputs": [],
   "source": []
  },
  {
   "cell_type": "code",
   "execution_count": null,
   "id": "living-applicant",
   "metadata": {},
   "outputs": [],
   "source": []
  },
  {
   "cell_type": "code",
   "execution_count": null,
   "id": "growing-chamber",
   "metadata": {},
   "outputs": [],
   "source": []
  },
  {
   "cell_type": "code",
   "execution_count": null,
   "id": "advisory-shopping",
   "metadata": {},
   "outputs": [],
   "source": []
  },
  {
   "cell_type": "code",
   "execution_count": null,
   "id": "later-stress",
   "metadata": {},
   "outputs": [],
   "source": []
  },
  {
   "cell_type": "code",
   "execution_count": null,
   "id": "champion-thunder",
   "metadata": {},
   "outputs": [],
   "source": []
  },
  {
   "cell_type": "code",
   "execution_count": null,
   "id": "historical-judgment",
   "metadata": {},
   "outputs": [],
   "source": []
  },
  {
   "cell_type": "code",
   "execution_count": null,
   "id": "elegant-intensity",
   "metadata": {},
   "outputs": [],
   "source": []
  },
  {
   "cell_type": "code",
   "execution_count": null,
   "id": "collaborative-slave",
   "metadata": {},
   "outputs": [],
   "source": []
  },
  {
   "cell_type": "code",
   "execution_count": null,
   "id": "annual-plaintiff",
   "metadata": {},
   "outputs": [],
   "source": []
  },
  {
   "cell_type": "code",
   "execution_count": null,
   "id": "hungry-automation",
   "metadata": {},
   "outputs": [],
   "source": []
  },
  {
   "cell_type": "code",
   "execution_count": null,
   "id": "native-boards",
   "metadata": {},
   "outputs": [],
   "source": []
  },
  {
   "cell_type": "code",
   "execution_count": null,
   "id": "swiss-allocation",
   "metadata": {},
   "outputs": [],
   "source": []
  },
  {
   "cell_type": "code",
   "execution_count": null,
   "id": "diagnostic-navigation",
   "metadata": {},
   "outputs": [],
   "source": []
  },
  {
   "cell_type": "code",
   "execution_count": null,
   "id": "herbal-italic",
   "metadata": {},
   "outputs": [],
   "source": []
  },
  {
   "cell_type": "code",
   "execution_count": null,
   "id": "compact-cologne",
   "metadata": {},
   "outputs": [],
   "source": []
  },
  {
   "cell_type": "code",
   "execution_count": null,
   "id": "upper-prince",
   "metadata": {},
   "outputs": [],
   "source": []
  },
  {
   "cell_type": "code",
   "execution_count": null,
   "id": "supported-principle",
   "metadata": {},
   "outputs": [],
   "source": []
  },
  {
   "cell_type": "code",
   "execution_count": null,
   "id": "conventional-health",
   "metadata": {},
   "outputs": [],
   "source": []
  },
  {
   "cell_type": "code",
   "execution_count": null,
   "id": "worse-things",
   "metadata": {},
   "outputs": [],
   "source": []
  },
  {
   "cell_type": "code",
   "execution_count": null,
   "id": "genuine-repository",
   "metadata": {},
   "outputs": [],
   "source": []
  },
  {
   "cell_type": "code",
   "execution_count": null,
   "id": "natural-module",
   "metadata": {},
   "outputs": [],
   "source": []
  }
 ],
 "metadata": {
  "kernelspec": {
   "display_name": "Python 3",
   "language": "python",
   "name": "python3"
  },
  "language_info": {
   "codemirror_mode": {
    "name": "ipython",
    "version": 3
   },
   "file_extension": ".py",
   "mimetype": "text/x-python",
   "name": "python",
   "nbconvert_exporter": "python",
   "pygments_lexer": "ipython3",
   "version": "3.8.5"
  }
 },
 "nbformat": 4,
 "nbformat_minor": 5
}
